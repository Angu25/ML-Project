{
 "cells": [
  {
   "cell_type": "code",
   "execution_count": 1,
   "id": "9c59ccc2",
   "metadata": {},
   "outputs": [],
   "source": [
    "import sqlite3\n",
    "import numpy as np\n",
    "import pandas as pd\n",
    "%matplotlib notebook\n",
    "import matplotlib.pyplot as plt\n",
    "import xgboost as xgb\n",
    "from xgboost.sklearn import XGBRegressor\n",
    "from xgboost import plot_importance\n",
    "\n",
    "from sklearn.linear_model import LinearRegression\n",
    "from sklearn.tree import DecisionTreeRegressor\n",
    "from sklearn.ensemble import RandomForestRegressor\n",
    "from sklearn.impute import SimpleImputer\n",
    "from sklearn.preprocessing import StandardScaler\n",
    "from sklearn.feature_selection import SelectFromModel\n",
    "from sklearn.model_selection import train_test_split, GridSearchCV, ShuffleSplit, RandomizedSearchCV\n",
    "from sklearn.pipeline import make_pipeline\n",
    "\n",
    "import pickle"
   ]
  },
  {
   "cell_type": "code",
   "execution_count": 2,
   "id": "f1d2a66f",
   "metadata": {},
   "outputs": [],
   "source": [
    "cnx = sqlite3.connect('database.sqlite')"
   ]
  },
  {
   "cell_type": "code",
   "execution_count": 3,
   "id": "d16d27a0",
   "metadata": {},
   "outputs": [],
   "source": [
    "df= pd.read_sql_query(\"SELECT * FROM Player_Attributes\", cnx)"
   ]
  },
  {
   "cell_type": "code",
   "execution_count": 4,
   "id": "39e3d764",
   "metadata": {},
   "outputs": [
    {
     "name": "stdout",
     "output_type": "stream",
     "text": [
      "            id  player_fifa_api_id  player_api_id                 date  \\\n",
      "0            1              218353         505942  2016-02-18 00:00:00   \n",
      "1            2              218353         505942  2015-11-19 00:00:00   \n",
      "2            3              218353         505942  2015-09-21 00:00:00   \n",
      "3            4              218353         505942  2015-03-20 00:00:00   \n",
      "4            5              218353         505942  2007-02-22 00:00:00   \n",
      "...        ...                 ...            ...                  ...   \n",
      "183973  183974              102359          39902  2009-08-30 00:00:00   \n",
      "183974  183975              102359          39902  2009-02-22 00:00:00   \n",
      "183975  183976              102359          39902  2008-08-30 00:00:00   \n",
      "183976  183977              102359          39902  2007-08-30 00:00:00   \n",
      "183977  183978              102359          39902  2007-02-22 00:00:00   \n",
      "\n",
      "        overall_rating  potential preferred_foot attacking_work_rate  \\\n",
      "0                 67.0       71.0          right              medium   \n",
      "1                 67.0       71.0          right              medium   \n",
      "2                 62.0       66.0          right              medium   \n",
      "3                 61.0       65.0          right              medium   \n",
      "4                 61.0       65.0          right              medium   \n",
      "...                ...        ...            ...                 ...   \n",
      "183973            83.0       85.0          right              medium   \n",
      "183974            78.0       80.0          right              medium   \n",
      "183975            77.0       80.0          right              medium   \n",
      "183976            78.0       81.0          right              medium   \n",
      "183977            80.0       81.0          right              medium   \n",
      "\n",
      "       defensive_work_rate  crossing  ...  vision  penalties  marking  \\\n",
      "0                   medium      49.0  ...    54.0       48.0     65.0   \n",
      "1                   medium      49.0  ...    54.0       48.0     65.0   \n",
      "2                   medium      49.0  ...    54.0       48.0     65.0   \n",
      "3                   medium      48.0  ...    53.0       47.0     62.0   \n",
      "4                   medium      48.0  ...    53.0       47.0     62.0   \n",
      "...                    ...       ...  ...     ...        ...      ...   \n",
      "183973                 low      84.0  ...    88.0       83.0     22.0   \n",
      "183974                 low      74.0  ...    88.0       70.0     32.0   \n",
      "183975                 low      74.0  ...    88.0       70.0     32.0   \n",
      "183976                 low      74.0  ...    88.0       53.0     28.0   \n",
      "183977                 low      74.0  ...    88.0       53.0     38.0   \n",
      "\n",
      "        standing_tackle  sliding_tackle  gk_diving  gk_handling  gk_kicking  \\\n",
      "0                  69.0            69.0        6.0         11.0        10.0   \n",
      "1                  69.0            69.0        6.0         11.0        10.0   \n",
      "2                  66.0            69.0        6.0         11.0        10.0   \n",
      "3                  63.0            66.0        5.0         10.0         9.0   \n",
      "4                  63.0            66.0        5.0         10.0         9.0   \n",
      "...                 ...             ...        ...          ...         ...   \n",
      "183973             31.0            30.0        9.0         20.0        84.0   \n",
      "183974             31.0            30.0        9.0         20.0        73.0   \n",
      "183975             31.0            30.0        9.0         20.0        73.0   \n",
      "183976             32.0            30.0        9.0         20.0        73.0   \n",
      "183977             32.0            30.0        9.0          9.0        78.0   \n",
      "\n",
      "        gk_positioning  gk_reflexes  \n",
      "0                  8.0          8.0  \n",
      "1                  8.0          8.0  \n",
      "2                  8.0          8.0  \n",
      "3                  7.0          7.0  \n",
      "4                  7.0          7.0  \n",
      "...                ...          ...  \n",
      "183973            20.0         20.0  \n",
      "183974            20.0         20.0  \n",
      "183975            20.0         20.0  \n",
      "183976            20.0         20.0  \n",
      "183977             7.0         15.0  \n",
      "\n",
      "[183978 rows x 42 columns]\n"
     ]
    }
   ],
   "source": [
    "print(df)"
   ]
  },
  {
   "cell_type": "code",
   "execution_count": 5,
   "id": "2dedcb25",
   "metadata": {},
   "outputs": [
    {
     "data": {
      "text/html": [
       "<div>\n",
       "<style scoped>\n",
       "    .dataframe tbody tr th:only-of-type {\n",
       "        vertical-align: middle;\n",
       "    }\n",
       "\n",
       "    .dataframe tbody tr th {\n",
       "        vertical-align: top;\n",
       "    }\n",
       "\n",
       "    .dataframe thead th {\n",
       "        text-align: right;\n",
       "    }\n",
       "</style>\n",
       "<table border=\"1\" class=\"dataframe\">\n",
       "  <thead>\n",
       "    <tr style=\"text-align: right;\">\n",
       "      <th></th>\n",
       "      <th>id</th>\n",
       "      <th>player_fifa_api_id</th>\n",
       "      <th>player_api_id</th>\n",
       "      <th>date</th>\n",
       "      <th>overall_rating</th>\n",
       "      <th>potential</th>\n",
       "      <th>preferred_foot</th>\n",
       "      <th>attacking_work_rate</th>\n",
       "      <th>defensive_work_rate</th>\n",
       "      <th>crossing</th>\n",
       "      <th>...</th>\n",
       "      <th>vision</th>\n",
       "      <th>penalties</th>\n",
       "      <th>marking</th>\n",
       "      <th>standing_tackle</th>\n",
       "      <th>sliding_tackle</th>\n",
       "      <th>gk_diving</th>\n",
       "      <th>gk_handling</th>\n",
       "      <th>gk_kicking</th>\n",
       "      <th>gk_positioning</th>\n",
       "      <th>gk_reflexes</th>\n",
       "    </tr>\n",
       "  </thead>\n",
       "  <tbody>\n",
       "    <tr>\n",
       "      <th>0</th>\n",
       "      <td>1</td>\n",
       "      <td>218353</td>\n",
       "      <td>505942</td>\n",
       "      <td>2016-02-18 00:00:00</td>\n",
       "      <td>67.0</td>\n",
       "      <td>71.0</td>\n",
       "      <td>right</td>\n",
       "      <td>medium</td>\n",
       "      <td>medium</td>\n",
       "      <td>49.0</td>\n",
       "      <td>...</td>\n",
       "      <td>54.0</td>\n",
       "      <td>48.0</td>\n",
       "      <td>65.0</td>\n",
       "      <td>69.0</td>\n",
       "      <td>69.0</td>\n",
       "      <td>6.0</td>\n",
       "      <td>11.0</td>\n",
       "      <td>10.0</td>\n",
       "      <td>8.0</td>\n",
       "      <td>8.0</td>\n",
       "    </tr>\n",
       "    <tr>\n",
       "      <th>1</th>\n",
       "      <td>2</td>\n",
       "      <td>218353</td>\n",
       "      <td>505942</td>\n",
       "      <td>2015-11-19 00:00:00</td>\n",
       "      <td>67.0</td>\n",
       "      <td>71.0</td>\n",
       "      <td>right</td>\n",
       "      <td>medium</td>\n",
       "      <td>medium</td>\n",
       "      <td>49.0</td>\n",
       "      <td>...</td>\n",
       "      <td>54.0</td>\n",
       "      <td>48.0</td>\n",
       "      <td>65.0</td>\n",
       "      <td>69.0</td>\n",
       "      <td>69.0</td>\n",
       "      <td>6.0</td>\n",
       "      <td>11.0</td>\n",
       "      <td>10.0</td>\n",
       "      <td>8.0</td>\n",
       "      <td>8.0</td>\n",
       "    </tr>\n",
       "    <tr>\n",
       "      <th>2</th>\n",
       "      <td>3</td>\n",
       "      <td>218353</td>\n",
       "      <td>505942</td>\n",
       "      <td>2015-09-21 00:00:00</td>\n",
       "      <td>62.0</td>\n",
       "      <td>66.0</td>\n",
       "      <td>right</td>\n",
       "      <td>medium</td>\n",
       "      <td>medium</td>\n",
       "      <td>49.0</td>\n",
       "      <td>...</td>\n",
       "      <td>54.0</td>\n",
       "      <td>48.0</td>\n",
       "      <td>65.0</td>\n",
       "      <td>66.0</td>\n",
       "      <td>69.0</td>\n",
       "      <td>6.0</td>\n",
       "      <td>11.0</td>\n",
       "      <td>10.0</td>\n",
       "      <td>8.0</td>\n",
       "      <td>8.0</td>\n",
       "    </tr>\n",
       "    <tr>\n",
       "      <th>3</th>\n",
       "      <td>4</td>\n",
       "      <td>218353</td>\n",
       "      <td>505942</td>\n",
       "      <td>2015-03-20 00:00:00</td>\n",
       "      <td>61.0</td>\n",
       "      <td>65.0</td>\n",
       "      <td>right</td>\n",
       "      <td>medium</td>\n",
       "      <td>medium</td>\n",
       "      <td>48.0</td>\n",
       "      <td>...</td>\n",
       "      <td>53.0</td>\n",
       "      <td>47.0</td>\n",
       "      <td>62.0</td>\n",
       "      <td>63.0</td>\n",
       "      <td>66.0</td>\n",
       "      <td>5.0</td>\n",
       "      <td>10.0</td>\n",
       "      <td>9.0</td>\n",
       "      <td>7.0</td>\n",
       "      <td>7.0</td>\n",
       "    </tr>\n",
       "    <tr>\n",
       "      <th>4</th>\n",
       "      <td>5</td>\n",
       "      <td>218353</td>\n",
       "      <td>505942</td>\n",
       "      <td>2007-02-22 00:00:00</td>\n",
       "      <td>61.0</td>\n",
       "      <td>65.0</td>\n",
       "      <td>right</td>\n",
       "      <td>medium</td>\n",
       "      <td>medium</td>\n",
       "      <td>48.0</td>\n",
       "      <td>...</td>\n",
       "      <td>53.0</td>\n",
       "      <td>47.0</td>\n",
       "      <td>62.0</td>\n",
       "      <td>63.0</td>\n",
       "      <td>66.0</td>\n",
       "      <td>5.0</td>\n",
       "      <td>10.0</td>\n",
       "      <td>9.0</td>\n",
       "      <td>7.0</td>\n",
       "      <td>7.0</td>\n",
       "    </tr>\n",
       "  </tbody>\n",
       "</table>\n",
       "<p>5 rows × 42 columns</p>\n",
       "</div>"
      ],
      "text/plain": [
       "   id  player_fifa_api_id  player_api_id                 date  overall_rating  \\\n",
       "0   1              218353         505942  2016-02-18 00:00:00            67.0   \n",
       "1   2              218353         505942  2015-11-19 00:00:00            67.0   \n",
       "2   3              218353         505942  2015-09-21 00:00:00            62.0   \n",
       "3   4              218353         505942  2015-03-20 00:00:00            61.0   \n",
       "4   5              218353         505942  2007-02-22 00:00:00            61.0   \n",
       "\n",
       "   potential preferred_foot attacking_work_rate defensive_work_rate  crossing  \\\n",
       "0       71.0          right              medium              medium      49.0   \n",
       "1       71.0          right              medium              medium      49.0   \n",
       "2       66.0          right              medium              medium      49.0   \n",
       "3       65.0          right              medium              medium      48.0   \n",
       "4       65.0          right              medium              medium      48.0   \n",
       "\n",
       "   ...  vision  penalties  marking  standing_tackle  sliding_tackle  \\\n",
       "0  ...    54.0       48.0     65.0             69.0            69.0   \n",
       "1  ...    54.0       48.0     65.0             69.0            69.0   \n",
       "2  ...    54.0       48.0     65.0             66.0            69.0   \n",
       "3  ...    53.0       47.0     62.0             63.0            66.0   \n",
       "4  ...    53.0       47.0     62.0             63.0            66.0   \n",
       "\n",
       "   gk_diving  gk_handling  gk_kicking  gk_positioning  gk_reflexes  \n",
       "0        6.0         11.0        10.0             8.0          8.0  \n",
       "1        6.0         11.0        10.0             8.0          8.0  \n",
       "2        6.0         11.0        10.0             8.0          8.0  \n",
       "3        5.0         10.0         9.0             7.0          7.0  \n",
       "4        5.0         10.0         9.0             7.0          7.0  \n",
       "\n",
       "[5 rows x 42 columns]"
      ]
     },
     "execution_count": 5,
     "metadata": {},
     "output_type": "execute_result"
    }
   ],
   "source": [
    "df.head()"
   ]
  },
  {
   "cell_type": "markdown",
   "id": "e385011a",
   "metadata": {},
   "source": [
    "#### Creating Target variable:"
   ]
  },
  {
   "cell_type": "code",
   "execution_count": 6,
   "id": "08ea30c9",
   "metadata": {},
   "outputs": [],
   "source": [
    "target = df.pop('overall_rating')"
   ]
  },
  {
   "cell_type": "code",
   "execution_count": 7,
   "id": "80a8d3f0",
   "metadata": {},
   "outputs": [
    {
     "data": {
      "text/plain": [
       "(183978, 41)"
      ]
     },
     "execution_count": 7,
     "metadata": {},
     "output_type": "execute_result"
    }
   ],
   "source": [
    "df.shape"
   ]
  },
  {
   "cell_type": "code",
   "execution_count": 8,
   "id": "27c6de8a",
   "metadata": {},
   "outputs": [
    {
     "data": {
      "text/plain": [
       "0    67.0\n",
       "1    67.0\n",
       "2    62.0\n",
       "3    61.0\n",
       "4    61.0\n",
       "Name: overall_rating, dtype: float64"
      ]
     },
     "execution_count": 8,
     "metadata": {},
     "output_type": "execute_result"
    }
   ],
   "source": [
    "target.head()"
   ]
  },
  {
   "cell_type": "markdown",
   "id": "5bec919d",
   "metadata": {},
   "source": [
    "#### Imputing target funtion :"
   ]
  },
  {
   "cell_type": "code",
   "execution_count": 9,
   "id": "c7ebdef2",
   "metadata": {},
   "outputs": [
    {
     "data": {
      "text/plain": [
       "836"
      ]
     },
     "execution_count": 9,
     "metadata": {},
     "output_type": "execute_result"
    }
   ],
   "source": [
    "target.isnull().values.sum()"
   ]
  },
  {
   "cell_type": "code",
   "execution_count": 10,
   "id": "2be43a77",
   "metadata": {},
   "outputs": [
    {
     "data": {
      "text/plain": [
       "count    183142.000000\n",
       "mean         68.600015\n",
       "std           7.041139\n",
       "min          33.000000\n",
       "25%          64.000000\n",
       "50%          69.000000\n",
       "75%          73.000000\n",
       "max          94.000000\n",
       "Name: overall_rating, dtype: float64"
      ]
     },
     "execution_count": 10,
     "metadata": {},
     "output_type": "execute_result"
    }
   ],
   "source": [
    "target.describe()"
   ]
  },
  {
   "cell_type": "code",
   "execution_count": 11,
   "id": "666700f7",
   "metadata": {},
   "outputs": [
    {
     "data": {
      "application/javascript": [
       "/* Put everything inside the global mpl namespace */\n",
       "/* global mpl */\n",
       "window.mpl = {};\n",
       "\n",
       "mpl.get_websocket_type = function () {\n",
       "    if (typeof WebSocket !== 'undefined') {\n",
       "        return WebSocket;\n",
       "    } else if (typeof MozWebSocket !== 'undefined') {\n",
       "        return MozWebSocket;\n",
       "    } else {\n",
       "        alert(\n",
       "            'Your browser does not have WebSocket support. ' +\n",
       "                'Please try Chrome, Safari or Firefox ≥ 6. ' +\n",
       "                'Firefox 4 and 5 are also supported but you ' +\n",
       "                'have to enable WebSockets in about:config.'\n",
       "        );\n",
       "    }\n",
       "};\n",
       "\n",
       "mpl.figure = function (figure_id, websocket, ondownload, parent_element) {\n",
       "    this.id = figure_id;\n",
       "\n",
       "    this.ws = websocket;\n",
       "\n",
       "    this.supports_binary = this.ws.binaryType !== undefined;\n",
       "\n",
       "    if (!this.supports_binary) {\n",
       "        var warnings = document.getElementById('mpl-warnings');\n",
       "        if (warnings) {\n",
       "            warnings.style.display = 'block';\n",
       "            warnings.textContent =\n",
       "                'This browser does not support binary websocket messages. ' +\n",
       "                'Performance may be slow.';\n",
       "        }\n",
       "    }\n",
       "\n",
       "    this.imageObj = new Image();\n",
       "\n",
       "    this.context = undefined;\n",
       "    this.message = undefined;\n",
       "    this.canvas = undefined;\n",
       "    this.rubberband_canvas = undefined;\n",
       "    this.rubberband_context = undefined;\n",
       "    this.format_dropdown = undefined;\n",
       "\n",
       "    this.image_mode = 'full';\n",
       "\n",
       "    this.root = document.createElement('div');\n",
       "    this.root.setAttribute('style', 'display: inline-block');\n",
       "    this._root_extra_style(this.root);\n",
       "\n",
       "    parent_element.appendChild(this.root);\n",
       "\n",
       "    this._init_header(this);\n",
       "    this._init_canvas(this);\n",
       "    this._init_toolbar(this);\n",
       "\n",
       "    var fig = this;\n",
       "\n",
       "    this.waiting = false;\n",
       "\n",
       "    this.ws.onopen = function () {\n",
       "        fig.send_message('supports_binary', { value: fig.supports_binary });\n",
       "        fig.send_message('send_image_mode', {});\n",
       "        if (fig.ratio !== 1) {\n",
       "            fig.send_message('set_dpi_ratio', { dpi_ratio: fig.ratio });\n",
       "        }\n",
       "        fig.send_message('refresh', {});\n",
       "    };\n",
       "\n",
       "    this.imageObj.onload = function () {\n",
       "        if (fig.image_mode === 'full') {\n",
       "            // Full images could contain transparency (where diff images\n",
       "            // almost always do), so we need to clear the canvas so that\n",
       "            // there is no ghosting.\n",
       "            fig.context.clearRect(0, 0, fig.canvas.width, fig.canvas.height);\n",
       "        }\n",
       "        fig.context.drawImage(fig.imageObj, 0, 0);\n",
       "    };\n",
       "\n",
       "    this.imageObj.onunload = function () {\n",
       "        fig.ws.close();\n",
       "    };\n",
       "\n",
       "    this.ws.onmessage = this._make_on_message_function(this);\n",
       "\n",
       "    this.ondownload = ondownload;\n",
       "};\n",
       "\n",
       "mpl.figure.prototype._init_header = function () {\n",
       "    var titlebar = document.createElement('div');\n",
       "    titlebar.classList =\n",
       "        'ui-dialog-titlebar ui-widget-header ui-corner-all ui-helper-clearfix';\n",
       "    var titletext = document.createElement('div');\n",
       "    titletext.classList = 'ui-dialog-title';\n",
       "    titletext.setAttribute(\n",
       "        'style',\n",
       "        'width: 100%; text-align: center; padding: 3px;'\n",
       "    );\n",
       "    titlebar.appendChild(titletext);\n",
       "    this.root.appendChild(titlebar);\n",
       "    this.header = titletext;\n",
       "};\n",
       "\n",
       "mpl.figure.prototype._canvas_extra_style = function (_canvas_div) {};\n",
       "\n",
       "mpl.figure.prototype._root_extra_style = function (_canvas_div) {};\n",
       "\n",
       "mpl.figure.prototype._init_canvas = function () {\n",
       "    var fig = this;\n",
       "\n",
       "    var canvas_div = (this.canvas_div = document.createElement('div'));\n",
       "    canvas_div.setAttribute(\n",
       "        'style',\n",
       "        'border: 1px solid #ddd;' +\n",
       "            'box-sizing: content-box;' +\n",
       "            'clear: both;' +\n",
       "            'min-height: 1px;' +\n",
       "            'min-width: 1px;' +\n",
       "            'outline: 0;' +\n",
       "            'overflow: hidden;' +\n",
       "            'position: relative;' +\n",
       "            'resize: both;'\n",
       "    );\n",
       "\n",
       "    function on_keyboard_event_closure(name) {\n",
       "        return function (event) {\n",
       "            return fig.key_event(event, name);\n",
       "        };\n",
       "    }\n",
       "\n",
       "    canvas_div.addEventListener(\n",
       "        'keydown',\n",
       "        on_keyboard_event_closure('key_press')\n",
       "    );\n",
       "    canvas_div.addEventListener(\n",
       "        'keyup',\n",
       "        on_keyboard_event_closure('key_release')\n",
       "    );\n",
       "\n",
       "    this._canvas_extra_style(canvas_div);\n",
       "    this.root.appendChild(canvas_div);\n",
       "\n",
       "    var canvas = (this.canvas = document.createElement('canvas'));\n",
       "    canvas.classList.add('mpl-canvas');\n",
       "    canvas.setAttribute('style', 'box-sizing: content-box;');\n",
       "\n",
       "    this.context = canvas.getContext('2d');\n",
       "\n",
       "    var backingStore =\n",
       "        this.context.backingStorePixelRatio ||\n",
       "        this.context.webkitBackingStorePixelRatio ||\n",
       "        this.context.mozBackingStorePixelRatio ||\n",
       "        this.context.msBackingStorePixelRatio ||\n",
       "        this.context.oBackingStorePixelRatio ||\n",
       "        this.context.backingStorePixelRatio ||\n",
       "        1;\n",
       "\n",
       "    this.ratio = (window.devicePixelRatio || 1) / backingStore;\n",
       "\n",
       "    var rubberband_canvas = (this.rubberband_canvas = document.createElement(\n",
       "        'canvas'\n",
       "    ));\n",
       "    rubberband_canvas.setAttribute(\n",
       "        'style',\n",
       "        'box-sizing: content-box; position: absolute; left: 0; top: 0; z-index: 1;'\n",
       "    );\n",
       "\n",
       "    // Apply a ponyfill if ResizeObserver is not implemented by browser.\n",
       "    if (this.ResizeObserver === undefined) {\n",
       "        if (window.ResizeObserver !== undefined) {\n",
       "            this.ResizeObserver = window.ResizeObserver;\n",
       "        } else {\n",
       "            var obs = _JSXTOOLS_RESIZE_OBSERVER({});\n",
       "            this.ResizeObserver = obs.ResizeObserver;\n",
       "        }\n",
       "    }\n",
       "\n",
       "    this.resizeObserverInstance = new this.ResizeObserver(function (entries) {\n",
       "        var nentries = entries.length;\n",
       "        for (var i = 0; i < nentries; i++) {\n",
       "            var entry = entries[i];\n",
       "            var width, height;\n",
       "            if (entry.contentBoxSize) {\n",
       "                if (entry.contentBoxSize instanceof Array) {\n",
       "                    // Chrome 84 implements new version of spec.\n",
       "                    width = entry.contentBoxSize[0].inlineSize;\n",
       "                    height = entry.contentBoxSize[0].blockSize;\n",
       "                } else {\n",
       "                    // Firefox implements old version of spec.\n",
       "                    width = entry.contentBoxSize.inlineSize;\n",
       "                    height = entry.contentBoxSize.blockSize;\n",
       "                }\n",
       "            } else {\n",
       "                // Chrome <84 implements even older version of spec.\n",
       "                width = entry.contentRect.width;\n",
       "                height = entry.contentRect.height;\n",
       "            }\n",
       "\n",
       "            // Keep the size of the canvas and rubber band canvas in sync with\n",
       "            // the canvas container.\n",
       "            if (entry.devicePixelContentBoxSize) {\n",
       "                // Chrome 84 implements new version of spec.\n",
       "                canvas.setAttribute(\n",
       "                    'width',\n",
       "                    entry.devicePixelContentBoxSize[0].inlineSize\n",
       "                );\n",
       "                canvas.setAttribute(\n",
       "                    'height',\n",
       "                    entry.devicePixelContentBoxSize[0].blockSize\n",
       "                );\n",
       "            } else {\n",
       "                canvas.setAttribute('width', width * fig.ratio);\n",
       "                canvas.setAttribute('height', height * fig.ratio);\n",
       "            }\n",
       "            canvas.setAttribute(\n",
       "                'style',\n",
       "                'width: ' + width + 'px; height: ' + height + 'px;'\n",
       "            );\n",
       "\n",
       "            rubberband_canvas.setAttribute('width', width);\n",
       "            rubberband_canvas.setAttribute('height', height);\n",
       "\n",
       "            // And update the size in Python. We ignore the initial 0/0 size\n",
       "            // that occurs as the element is placed into the DOM, which should\n",
       "            // otherwise not happen due to the minimum size styling.\n",
       "            if (fig.ws.readyState == 1 && width != 0 && height != 0) {\n",
       "                fig.request_resize(width, height);\n",
       "            }\n",
       "        }\n",
       "    });\n",
       "    this.resizeObserverInstance.observe(canvas_div);\n",
       "\n",
       "    function on_mouse_event_closure(name) {\n",
       "        return function (event) {\n",
       "            return fig.mouse_event(event, name);\n",
       "        };\n",
       "    }\n",
       "\n",
       "    rubberband_canvas.addEventListener(\n",
       "        'mousedown',\n",
       "        on_mouse_event_closure('button_press')\n",
       "    );\n",
       "    rubberband_canvas.addEventListener(\n",
       "        'mouseup',\n",
       "        on_mouse_event_closure('button_release')\n",
       "    );\n",
       "    // Throttle sequential mouse events to 1 every 20ms.\n",
       "    rubberband_canvas.addEventListener(\n",
       "        'mousemove',\n",
       "        on_mouse_event_closure('motion_notify')\n",
       "    );\n",
       "\n",
       "    rubberband_canvas.addEventListener(\n",
       "        'mouseenter',\n",
       "        on_mouse_event_closure('figure_enter')\n",
       "    );\n",
       "    rubberband_canvas.addEventListener(\n",
       "        'mouseleave',\n",
       "        on_mouse_event_closure('figure_leave')\n",
       "    );\n",
       "\n",
       "    canvas_div.addEventListener('wheel', function (event) {\n",
       "        if (event.deltaY < 0) {\n",
       "            event.step = 1;\n",
       "        } else {\n",
       "            event.step = -1;\n",
       "        }\n",
       "        on_mouse_event_closure('scroll')(event);\n",
       "    });\n",
       "\n",
       "    canvas_div.appendChild(canvas);\n",
       "    canvas_div.appendChild(rubberband_canvas);\n",
       "\n",
       "    this.rubberband_context = rubberband_canvas.getContext('2d');\n",
       "    this.rubberband_context.strokeStyle = '#000000';\n",
       "\n",
       "    this._resize_canvas = function (width, height, forward) {\n",
       "        if (forward) {\n",
       "            canvas_div.style.width = width + 'px';\n",
       "            canvas_div.style.height = height + 'px';\n",
       "        }\n",
       "    };\n",
       "\n",
       "    // Disable right mouse context menu.\n",
       "    this.rubberband_canvas.addEventListener('contextmenu', function (_e) {\n",
       "        event.preventDefault();\n",
       "        return false;\n",
       "    });\n",
       "\n",
       "    function set_focus() {\n",
       "        canvas.focus();\n",
       "        canvas_div.focus();\n",
       "    }\n",
       "\n",
       "    window.setTimeout(set_focus, 100);\n",
       "};\n",
       "\n",
       "mpl.figure.prototype._init_toolbar = function () {\n",
       "    var fig = this;\n",
       "\n",
       "    var toolbar = document.createElement('div');\n",
       "    toolbar.classList = 'mpl-toolbar';\n",
       "    this.root.appendChild(toolbar);\n",
       "\n",
       "    function on_click_closure(name) {\n",
       "        return function (_event) {\n",
       "            return fig.toolbar_button_onclick(name);\n",
       "        };\n",
       "    }\n",
       "\n",
       "    function on_mouseover_closure(tooltip) {\n",
       "        return function (event) {\n",
       "            if (!event.currentTarget.disabled) {\n",
       "                return fig.toolbar_button_onmouseover(tooltip);\n",
       "            }\n",
       "        };\n",
       "    }\n",
       "\n",
       "    fig.buttons = {};\n",
       "    var buttonGroup = document.createElement('div');\n",
       "    buttonGroup.classList = 'mpl-button-group';\n",
       "    for (var toolbar_ind in mpl.toolbar_items) {\n",
       "        var name = mpl.toolbar_items[toolbar_ind][0];\n",
       "        var tooltip = mpl.toolbar_items[toolbar_ind][1];\n",
       "        var image = mpl.toolbar_items[toolbar_ind][2];\n",
       "        var method_name = mpl.toolbar_items[toolbar_ind][3];\n",
       "\n",
       "        if (!name) {\n",
       "            /* Instead of a spacer, we start a new button group. */\n",
       "            if (buttonGroup.hasChildNodes()) {\n",
       "                toolbar.appendChild(buttonGroup);\n",
       "            }\n",
       "            buttonGroup = document.createElement('div');\n",
       "            buttonGroup.classList = 'mpl-button-group';\n",
       "            continue;\n",
       "        }\n",
       "\n",
       "        var button = (fig.buttons[name] = document.createElement('button'));\n",
       "        button.classList = 'mpl-widget';\n",
       "        button.setAttribute('role', 'button');\n",
       "        button.setAttribute('aria-disabled', 'false');\n",
       "        button.addEventListener('click', on_click_closure(method_name));\n",
       "        button.addEventListener('mouseover', on_mouseover_closure(tooltip));\n",
       "\n",
       "        var icon_img = document.createElement('img');\n",
       "        icon_img.src = '_images/' + image + '.png';\n",
       "        icon_img.srcset = '_images/' + image + '_large.png 2x';\n",
       "        icon_img.alt = tooltip;\n",
       "        button.appendChild(icon_img);\n",
       "\n",
       "        buttonGroup.appendChild(button);\n",
       "    }\n",
       "\n",
       "    if (buttonGroup.hasChildNodes()) {\n",
       "        toolbar.appendChild(buttonGroup);\n",
       "    }\n",
       "\n",
       "    var fmt_picker = document.createElement('select');\n",
       "    fmt_picker.classList = 'mpl-widget';\n",
       "    toolbar.appendChild(fmt_picker);\n",
       "    this.format_dropdown = fmt_picker;\n",
       "\n",
       "    for (var ind in mpl.extensions) {\n",
       "        var fmt = mpl.extensions[ind];\n",
       "        var option = document.createElement('option');\n",
       "        option.selected = fmt === mpl.default_extension;\n",
       "        option.innerHTML = fmt;\n",
       "        fmt_picker.appendChild(option);\n",
       "    }\n",
       "\n",
       "    var status_bar = document.createElement('span');\n",
       "    status_bar.classList = 'mpl-message';\n",
       "    toolbar.appendChild(status_bar);\n",
       "    this.message = status_bar;\n",
       "};\n",
       "\n",
       "mpl.figure.prototype.request_resize = function (x_pixels, y_pixels) {\n",
       "    // Request matplotlib to resize the figure. Matplotlib will then trigger a resize in the client,\n",
       "    // which will in turn request a refresh of the image.\n",
       "    this.send_message('resize', { width: x_pixels, height: y_pixels });\n",
       "};\n",
       "\n",
       "mpl.figure.prototype.send_message = function (type, properties) {\n",
       "    properties['type'] = type;\n",
       "    properties['figure_id'] = this.id;\n",
       "    this.ws.send(JSON.stringify(properties));\n",
       "};\n",
       "\n",
       "mpl.figure.prototype.send_draw_message = function () {\n",
       "    if (!this.waiting) {\n",
       "        this.waiting = true;\n",
       "        this.ws.send(JSON.stringify({ type: 'draw', figure_id: this.id }));\n",
       "    }\n",
       "};\n",
       "\n",
       "mpl.figure.prototype.handle_save = function (fig, _msg) {\n",
       "    var format_dropdown = fig.format_dropdown;\n",
       "    var format = format_dropdown.options[format_dropdown.selectedIndex].value;\n",
       "    fig.ondownload(fig, format);\n",
       "};\n",
       "\n",
       "mpl.figure.prototype.handle_resize = function (fig, msg) {\n",
       "    var size = msg['size'];\n",
       "    if (size[0] !== fig.canvas.width || size[1] !== fig.canvas.height) {\n",
       "        fig._resize_canvas(size[0], size[1], msg['forward']);\n",
       "        fig.send_message('refresh', {});\n",
       "    }\n",
       "};\n",
       "\n",
       "mpl.figure.prototype.handle_rubberband = function (fig, msg) {\n",
       "    var x0 = msg['x0'] / fig.ratio;\n",
       "    var y0 = (fig.canvas.height - msg['y0']) / fig.ratio;\n",
       "    var x1 = msg['x1'] / fig.ratio;\n",
       "    var y1 = (fig.canvas.height - msg['y1']) / fig.ratio;\n",
       "    x0 = Math.floor(x0) + 0.5;\n",
       "    y0 = Math.floor(y0) + 0.5;\n",
       "    x1 = Math.floor(x1) + 0.5;\n",
       "    y1 = Math.floor(y1) + 0.5;\n",
       "    var min_x = Math.min(x0, x1);\n",
       "    var min_y = Math.min(y0, y1);\n",
       "    var width = Math.abs(x1 - x0);\n",
       "    var height = Math.abs(y1 - y0);\n",
       "\n",
       "    fig.rubberband_context.clearRect(\n",
       "        0,\n",
       "        0,\n",
       "        fig.canvas.width / fig.ratio,\n",
       "        fig.canvas.height / fig.ratio\n",
       "    );\n",
       "\n",
       "    fig.rubberband_context.strokeRect(min_x, min_y, width, height);\n",
       "};\n",
       "\n",
       "mpl.figure.prototype.handle_figure_label = function (fig, msg) {\n",
       "    // Updates the figure title.\n",
       "    fig.header.textContent = msg['label'];\n",
       "};\n",
       "\n",
       "mpl.figure.prototype.handle_cursor = function (fig, msg) {\n",
       "    var cursor = msg['cursor'];\n",
       "    switch (cursor) {\n",
       "        case 0:\n",
       "            cursor = 'pointer';\n",
       "            break;\n",
       "        case 1:\n",
       "            cursor = 'default';\n",
       "            break;\n",
       "        case 2:\n",
       "            cursor = 'crosshair';\n",
       "            break;\n",
       "        case 3:\n",
       "            cursor = 'move';\n",
       "            break;\n",
       "    }\n",
       "    fig.rubberband_canvas.style.cursor = cursor;\n",
       "};\n",
       "\n",
       "mpl.figure.prototype.handle_message = function (fig, msg) {\n",
       "    fig.message.textContent = msg['message'];\n",
       "};\n",
       "\n",
       "mpl.figure.prototype.handle_draw = function (fig, _msg) {\n",
       "    // Request the server to send over a new figure.\n",
       "    fig.send_draw_message();\n",
       "};\n",
       "\n",
       "mpl.figure.prototype.handle_image_mode = function (fig, msg) {\n",
       "    fig.image_mode = msg['mode'];\n",
       "};\n",
       "\n",
       "mpl.figure.prototype.handle_history_buttons = function (fig, msg) {\n",
       "    for (var key in msg) {\n",
       "        if (!(key in fig.buttons)) {\n",
       "            continue;\n",
       "        }\n",
       "        fig.buttons[key].disabled = !msg[key];\n",
       "        fig.buttons[key].setAttribute('aria-disabled', !msg[key]);\n",
       "    }\n",
       "};\n",
       "\n",
       "mpl.figure.prototype.handle_navigate_mode = function (fig, msg) {\n",
       "    if (msg['mode'] === 'PAN') {\n",
       "        fig.buttons['Pan'].classList.add('active');\n",
       "        fig.buttons['Zoom'].classList.remove('active');\n",
       "    } else if (msg['mode'] === 'ZOOM') {\n",
       "        fig.buttons['Pan'].classList.remove('active');\n",
       "        fig.buttons['Zoom'].classList.add('active');\n",
       "    } else {\n",
       "        fig.buttons['Pan'].classList.remove('active');\n",
       "        fig.buttons['Zoom'].classList.remove('active');\n",
       "    }\n",
       "};\n",
       "\n",
       "mpl.figure.prototype.updated_canvas_event = function () {\n",
       "    // Called whenever the canvas gets updated.\n",
       "    this.send_message('ack', {});\n",
       "};\n",
       "\n",
       "// A function to construct a web socket function for onmessage handling.\n",
       "// Called in the figure constructor.\n",
       "mpl.figure.prototype._make_on_message_function = function (fig) {\n",
       "    return function socket_on_message(evt) {\n",
       "        if (evt.data instanceof Blob) {\n",
       "            /* FIXME: We get \"Resource interpreted as Image but\n",
       "             * transferred with MIME type text/plain:\" errors on\n",
       "             * Chrome.  But how to set the MIME type?  It doesn't seem\n",
       "             * to be part of the websocket stream */\n",
       "            evt.data.type = 'image/png';\n",
       "\n",
       "            /* Free the memory for the previous frames */\n",
       "            if (fig.imageObj.src) {\n",
       "                (window.URL || window.webkitURL).revokeObjectURL(\n",
       "                    fig.imageObj.src\n",
       "                );\n",
       "            }\n",
       "\n",
       "            fig.imageObj.src = (window.URL || window.webkitURL).createObjectURL(\n",
       "                evt.data\n",
       "            );\n",
       "            fig.updated_canvas_event();\n",
       "            fig.waiting = false;\n",
       "            return;\n",
       "        } else if (\n",
       "            typeof evt.data === 'string' &&\n",
       "            evt.data.slice(0, 21) === 'data:image/png;base64'\n",
       "        ) {\n",
       "            fig.imageObj.src = evt.data;\n",
       "            fig.updated_canvas_event();\n",
       "            fig.waiting = false;\n",
       "            return;\n",
       "        }\n",
       "\n",
       "        var msg = JSON.parse(evt.data);\n",
       "        var msg_type = msg['type'];\n",
       "\n",
       "        // Call the  \"handle_{type}\" callback, which takes\n",
       "        // the figure and JSON message as its only arguments.\n",
       "        try {\n",
       "            var callback = fig['handle_' + msg_type];\n",
       "        } catch (e) {\n",
       "            console.log(\n",
       "                \"No handler for the '\" + msg_type + \"' message type: \",\n",
       "                msg\n",
       "            );\n",
       "            return;\n",
       "        }\n",
       "\n",
       "        if (callback) {\n",
       "            try {\n",
       "                // console.log(\"Handling '\" + msg_type + \"' message: \", msg);\n",
       "                callback(fig, msg);\n",
       "            } catch (e) {\n",
       "                console.log(\n",
       "                    \"Exception inside the 'handler_\" + msg_type + \"' callback:\",\n",
       "                    e,\n",
       "                    e.stack,\n",
       "                    msg\n",
       "                );\n",
       "            }\n",
       "        }\n",
       "    };\n",
       "};\n",
       "\n",
       "// from http://stackoverflow.com/questions/1114465/getting-mouse-location-in-canvas\n",
       "mpl.findpos = function (e) {\n",
       "    //this section is from http://www.quirksmode.org/js/events_properties.html\n",
       "    var targ;\n",
       "    if (!e) {\n",
       "        e = window.event;\n",
       "    }\n",
       "    if (e.target) {\n",
       "        targ = e.target;\n",
       "    } else if (e.srcElement) {\n",
       "        targ = e.srcElement;\n",
       "    }\n",
       "    if (targ.nodeType === 3) {\n",
       "        // defeat Safari bug\n",
       "        targ = targ.parentNode;\n",
       "    }\n",
       "\n",
       "    // pageX,Y are the mouse positions relative to the document\n",
       "    var boundingRect = targ.getBoundingClientRect();\n",
       "    var x = e.pageX - (boundingRect.left + document.body.scrollLeft);\n",
       "    var y = e.pageY - (boundingRect.top + document.body.scrollTop);\n",
       "\n",
       "    return { x: x, y: y };\n",
       "};\n",
       "\n",
       "/*\n",
       " * return a copy of an object with only non-object keys\n",
       " * we need this to avoid circular references\n",
       " * http://stackoverflow.com/a/24161582/3208463\n",
       " */\n",
       "function simpleKeys(original) {\n",
       "    return Object.keys(original).reduce(function (obj, key) {\n",
       "        if (typeof original[key] !== 'object') {\n",
       "            obj[key] = original[key];\n",
       "        }\n",
       "        return obj;\n",
       "    }, {});\n",
       "}\n",
       "\n",
       "mpl.figure.prototype.mouse_event = function (event, name) {\n",
       "    var canvas_pos = mpl.findpos(event);\n",
       "\n",
       "    if (name === 'button_press') {\n",
       "        this.canvas.focus();\n",
       "        this.canvas_div.focus();\n",
       "    }\n",
       "\n",
       "    var x = canvas_pos.x * this.ratio;\n",
       "    var y = canvas_pos.y * this.ratio;\n",
       "\n",
       "    this.send_message(name, {\n",
       "        x: x,\n",
       "        y: y,\n",
       "        button: event.button,\n",
       "        step: event.step,\n",
       "        guiEvent: simpleKeys(event),\n",
       "    });\n",
       "\n",
       "    /* This prevents the web browser from automatically changing to\n",
       "     * the text insertion cursor when the button is pressed.  We want\n",
       "     * to control all of the cursor setting manually through the\n",
       "     * 'cursor' event from matplotlib */\n",
       "    event.preventDefault();\n",
       "    return false;\n",
       "};\n",
       "\n",
       "mpl.figure.prototype._key_event_extra = function (_event, _name) {\n",
       "    // Handle any extra behaviour associated with a key event\n",
       "};\n",
       "\n",
       "mpl.figure.prototype.key_event = function (event, name) {\n",
       "    // Prevent repeat events\n",
       "    if (name === 'key_press') {\n",
       "        if (event.which === this._key) {\n",
       "            return;\n",
       "        } else {\n",
       "            this._key = event.which;\n",
       "        }\n",
       "    }\n",
       "    if (name === 'key_release') {\n",
       "        this._key = null;\n",
       "    }\n",
       "\n",
       "    var value = '';\n",
       "    if (event.ctrlKey && event.which !== 17) {\n",
       "        value += 'ctrl+';\n",
       "    }\n",
       "    if (event.altKey && event.which !== 18) {\n",
       "        value += 'alt+';\n",
       "    }\n",
       "    if (event.shiftKey && event.which !== 16) {\n",
       "        value += 'shift+';\n",
       "    }\n",
       "\n",
       "    value += 'k';\n",
       "    value += event.which.toString();\n",
       "\n",
       "    this._key_event_extra(event, name);\n",
       "\n",
       "    this.send_message(name, { key: value, guiEvent: simpleKeys(event) });\n",
       "    return false;\n",
       "};\n",
       "\n",
       "mpl.figure.prototype.toolbar_button_onclick = function (name) {\n",
       "    if (name === 'download') {\n",
       "        this.handle_save(this, null);\n",
       "    } else {\n",
       "        this.send_message('toolbar_button', { name: name });\n",
       "    }\n",
       "};\n",
       "\n",
       "mpl.figure.prototype.toolbar_button_onmouseover = function (tooltip) {\n",
       "    this.message.textContent = tooltip;\n",
       "};\n",
       "\n",
       "///////////////// REMAINING CONTENT GENERATED BY embed_js.py /////////////////\n",
       "// prettier-ignore\n",
       "var _JSXTOOLS_RESIZE_OBSERVER=function(A){var t,i=new WeakMap,n=new WeakMap,a=new WeakMap,r=new WeakMap,o=new Set;function s(e){if(!(this instanceof s))throw new TypeError(\"Constructor requires 'new' operator\");i.set(this,e)}function h(){throw new TypeError(\"Function is not a constructor\")}function c(e,t,i,n){e=0 in arguments?Number(arguments[0]):0,t=1 in arguments?Number(arguments[1]):0,i=2 in arguments?Number(arguments[2]):0,n=3 in arguments?Number(arguments[3]):0,this.right=(this.x=this.left=e)+(this.width=i),this.bottom=(this.y=this.top=t)+(this.height=n),Object.freeze(this)}function d(){t=requestAnimationFrame(d);var s=new WeakMap,p=new Set;o.forEach((function(t){r.get(t).forEach((function(i){var r=t instanceof window.SVGElement,o=a.get(t),d=r?0:parseFloat(o.paddingTop),f=r?0:parseFloat(o.paddingRight),l=r?0:parseFloat(o.paddingBottom),u=r?0:parseFloat(o.paddingLeft),g=r?0:parseFloat(o.borderTopWidth),m=r?0:parseFloat(o.borderRightWidth),w=r?0:parseFloat(o.borderBottomWidth),b=u+f,F=d+l,v=(r?0:parseFloat(o.borderLeftWidth))+m,W=g+w,y=r?0:t.offsetHeight-W-t.clientHeight,E=r?0:t.offsetWidth-v-t.clientWidth,R=b+v,z=F+W,M=r?t.width:parseFloat(o.width)-R-E,O=r?t.height:parseFloat(o.height)-z-y;if(n.has(t)){var k=n.get(t);if(k[0]===M&&k[1]===O)return}n.set(t,[M,O]);var S=Object.create(h.prototype);S.target=t,S.contentRect=new c(u,d,M,O),s.has(i)||(s.set(i,[]),p.add(i)),s.get(i).push(S)}))})),p.forEach((function(e){i.get(e).call(e,s.get(e),e)}))}return s.prototype.observe=function(i){if(i instanceof window.Element){r.has(i)||(r.set(i,new Set),o.add(i),a.set(i,window.getComputedStyle(i)));var n=r.get(i);n.has(this)||n.add(this),cancelAnimationFrame(t),t=requestAnimationFrame(d)}},s.prototype.unobserve=function(i){if(i instanceof window.Element&&r.has(i)){var n=r.get(i);n.has(this)&&(n.delete(this),n.size||(r.delete(i),o.delete(i))),n.size||r.delete(i),o.size||cancelAnimationFrame(t)}},A.DOMRectReadOnly=c,A.ResizeObserver=s,A.ResizeObserverEntry=h,A}; // eslint-disable-line\n",
       "mpl.toolbar_items = [[\"Home\", \"Reset original view\", \"fa fa-home icon-home\", \"home\"], [\"Back\", \"Back to previous view\", \"fa fa-arrow-left icon-arrow-left\", \"back\"], [\"Forward\", \"Forward to next view\", \"fa fa-arrow-right icon-arrow-right\", \"forward\"], [\"\", \"\", \"\", \"\"], [\"Pan\", \"Left button pans, Right button zooms\\nx/y fixes axis, CTRL fixes aspect\", \"fa fa-arrows icon-move\", \"pan\"], [\"Zoom\", \"Zoom to rectangle\\nx/y fixes axis, CTRL fixes aspect\", \"fa fa-square-o icon-check-empty\", \"zoom\"], [\"\", \"\", \"\", \"\"], [\"Download\", \"Download plot\", \"fa fa-floppy-o icon-save\", \"download\"]];\n",
       "\n",
       "mpl.extensions = [\"eps\", \"jpeg\", \"pdf\", \"png\", \"ps\", \"raw\", \"svg\", \"tif\"];\n",
       "\n",
       "mpl.default_extension = \"png\";/* global mpl */\n",
       "\n",
       "var comm_websocket_adapter = function (comm) {\n",
       "    // Create a \"websocket\"-like object which calls the given IPython comm\n",
       "    // object with the appropriate methods. Currently this is a non binary\n",
       "    // socket, so there is still some room for performance tuning.\n",
       "    var ws = {};\n",
       "\n",
       "    ws.close = function () {\n",
       "        comm.close();\n",
       "    };\n",
       "    ws.send = function (m) {\n",
       "        //console.log('sending', m);\n",
       "        comm.send(m);\n",
       "    };\n",
       "    // Register the callback with on_msg.\n",
       "    comm.on_msg(function (msg) {\n",
       "        //console.log('receiving', msg['content']['data'], msg);\n",
       "        // Pass the mpl event to the overridden (by mpl) onmessage function.\n",
       "        ws.onmessage(msg['content']['data']);\n",
       "    });\n",
       "    return ws;\n",
       "};\n",
       "\n",
       "mpl.mpl_figure_comm = function (comm, msg) {\n",
       "    // This is the function which gets called when the mpl process\n",
       "    // starts-up an IPython Comm through the \"matplotlib\" channel.\n",
       "\n",
       "    var id = msg.content.data.id;\n",
       "    // Get hold of the div created by the display call when the Comm\n",
       "    // socket was opened in Python.\n",
       "    var element = document.getElementById(id);\n",
       "    var ws_proxy = comm_websocket_adapter(comm);\n",
       "\n",
       "    function ondownload(figure, _format) {\n",
       "        window.open(figure.canvas.toDataURL());\n",
       "    }\n",
       "\n",
       "    var fig = new mpl.figure(id, ws_proxy, ondownload, element);\n",
       "\n",
       "    // Call onopen now - mpl needs it, as it is assuming we've passed it a real\n",
       "    // web socket which is closed, not our websocket->open comm proxy.\n",
       "    ws_proxy.onopen();\n",
       "\n",
       "    fig.parent_element = element;\n",
       "    fig.cell_info = mpl.find_output_cell(\"<div id='\" + id + \"'></div>\");\n",
       "    if (!fig.cell_info) {\n",
       "        console.error('Failed to find cell for figure', id, fig);\n",
       "        return;\n",
       "    }\n",
       "    fig.cell_info[0].output_area.element.on(\n",
       "        'cleared',\n",
       "        { fig: fig },\n",
       "        fig._remove_fig_handler\n",
       "    );\n",
       "};\n",
       "\n",
       "mpl.figure.prototype.handle_close = function (fig, msg) {\n",
       "    var width = fig.canvas.width / fig.ratio;\n",
       "    fig.cell_info[0].output_area.element.off(\n",
       "        'cleared',\n",
       "        fig._remove_fig_handler\n",
       "    );\n",
       "    fig.resizeObserverInstance.unobserve(fig.canvas_div);\n",
       "\n",
       "    // Update the output cell to use the data from the current canvas.\n",
       "    fig.push_to_output();\n",
       "    var dataURL = fig.canvas.toDataURL();\n",
       "    // Re-enable the keyboard manager in IPython - without this line, in FF,\n",
       "    // the notebook keyboard shortcuts fail.\n",
       "    IPython.keyboard_manager.enable();\n",
       "    fig.parent_element.innerHTML =\n",
       "        '<img src=\"' + dataURL + '\" width=\"' + width + '\">';\n",
       "    fig.close_ws(fig, msg);\n",
       "};\n",
       "\n",
       "mpl.figure.prototype.close_ws = function (fig, msg) {\n",
       "    fig.send_message('closing', msg);\n",
       "    // fig.ws.close()\n",
       "};\n",
       "\n",
       "mpl.figure.prototype.push_to_output = function (_remove_interactive) {\n",
       "    // Turn the data on the canvas into data in the output cell.\n",
       "    var width = this.canvas.width / this.ratio;\n",
       "    var dataURL = this.canvas.toDataURL();\n",
       "    this.cell_info[1]['text/html'] =\n",
       "        '<img src=\"' + dataURL + '\" width=\"' + width + '\">';\n",
       "};\n",
       "\n",
       "mpl.figure.prototype.updated_canvas_event = function () {\n",
       "    // Tell IPython that the notebook contents must change.\n",
       "    IPython.notebook.set_dirty(true);\n",
       "    this.send_message('ack', {});\n",
       "    var fig = this;\n",
       "    // Wait a second, then push the new image to the DOM so\n",
       "    // that it is saved nicely (might be nice to debounce this).\n",
       "    setTimeout(function () {\n",
       "        fig.push_to_output();\n",
       "    }, 1000);\n",
       "};\n",
       "\n",
       "mpl.figure.prototype._init_toolbar = function () {\n",
       "    var fig = this;\n",
       "\n",
       "    var toolbar = document.createElement('div');\n",
       "    toolbar.classList = 'btn-toolbar';\n",
       "    this.root.appendChild(toolbar);\n",
       "\n",
       "    function on_click_closure(name) {\n",
       "        return function (_event) {\n",
       "            return fig.toolbar_button_onclick(name);\n",
       "        };\n",
       "    }\n",
       "\n",
       "    function on_mouseover_closure(tooltip) {\n",
       "        return function (event) {\n",
       "            if (!event.currentTarget.disabled) {\n",
       "                return fig.toolbar_button_onmouseover(tooltip);\n",
       "            }\n",
       "        };\n",
       "    }\n",
       "\n",
       "    fig.buttons = {};\n",
       "    var buttonGroup = document.createElement('div');\n",
       "    buttonGroup.classList = 'btn-group';\n",
       "    var button;\n",
       "    for (var toolbar_ind in mpl.toolbar_items) {\n",
       "        var name = mpl.toolbar_items[toolbar_ind][0];\n",
       "        var tooltip = mpl.toolbar_items[toolbar_ind][1];\n",
       "        var image = mpl.toolbar_items[toolbar_ind][2];\n",
       "        var method_name = mpl.toolbar_items[toolbar_ind][3];\n",
       "\n",
       "        if (!name) {\n",
       "            /* Instead of a spacer, we start a new button group. */\n",
       "            if (buttonGroup.hasChildNodes()) {\n",
       "                toolbar.appendChild(buttonGroup);\n",
       "            }\n",
       "            buttonGroup = document.createElement('div');\n",
       "            buttonGroup.classList = 'btn-group';\n",
       "            continue;\n",
       "        }\n",
       "\n",
       "        button = fig.buttons[name] = document.createElement('button');\n",
       "        button.classList = 'btn btn-default';\n",
       "        button.href = '#';\n",
       "        button.title = name;\n",
       "        button.innerHTML = '<i class=\"fa ' + image + ' fa-lg\"></i>';\n",
       "        button.addEventListener('click', on_click_closure(method_name));\n",
       "        button.addEventListener('mouseover', on_mouseover_closure(tooltip));\n",
       "        buttonGroup.appendChild(button);\n",
       "    }\n",
       "\n",
       "    if (buttonGroup.hasChildNodes()) {\n",
       "        toolbar.appendChild(buttonGroup);\n",
       "    }\n",
       "\n",
       "    // Add the status bar.\n",
       "    var status_bar = document.createElement('span');\n",
       "    status_bar.classList = 'mpl-message pull-right';\n",
       "    toolbar.appendChild(status_bar);\n",
       "    this.message = status_bar;\n",
       "\n",
       "    // Add the close button to the window.\n",
       "    var buttongrp = document.createElement('div');\n",
       "    buttongrp.classList = 'btn-group inline pull-right';\n",
       "    button = document.createElement('button');\n",
       "    button.classList = 'btn btn-mini btn-primary';\n",
       "    button.href = '#';\n",
       "    button.title = 'Stop Interaction';\n",
       "    button.innerHTML = '<i class=\"fa fa-power-off icon-remove icon-large\"></i>';\n",
       "    button.addEventListener('click', function (_evt) {\n",
       "        fig.handle_close(fig, {});\n",
       "    });\n",
       "    button.addEventListener(\n",
       "        'mouseover',\n",
       "        on_mouseover_closure('Stop Interaction')\n",
       "    );\n",
       "    buttongrp.appendChild(button);\n",
       "    var titlebar = this.root.querySelector('.ui-dialog-titlebar');\n",
       "    titlebar.insertBefore(buttongrp, titlebar.firstChild);\n",
       "};\n",
       "\n",
       "mpl.figure.prototype._remove_fig_handler = function (event) {\n",
       "    var fig = event.data.fig;\n",
       "    if (event.target !== this) {\n",
       "        // Ignore bubbled events from children.\n",
       "        return;\n",
       "    }\n",
       "    fig.close_ws(fig, {});\n",
       "};\n",
       "\n",
       "mpl.figure.prototype._root_extra_style = function (el) {\n",
       "    el.style.boxSizing = 'content-box'; // override notebook setting of border-box.\n",
       "};\n",
       "\n",
       "mpl.figure.prototype._canvas_extra_style = function (el) {\n",
       "    // this is important to make the div 'focusable\n",
       "    el.setAttribute('tabindex', 0);\n",
       "    // reach out to IPython and tell the keyboard manager to turn it's self\n",
       "    // off when our div gets focus\n",
       "\n",
       "    // location in version 3\n",
       "    if (IPython.notebook.keyboard_manager) {\n",
       "        IPython.notebook.keyboard_manager.register_events(el);\n",
       "    } else {\n",
       "        // location in version 2\n",
       "        IPython.keyboard_manager.register_events(el);\n",
       "    }\n",
       "};\n",
       "\n",
       "mpl.figure.prototype._key_event_extra = function (event, _name) {\n",
       "    var manager = IPython.notebook.keyboard_manager;\n",
       "    if (!manager) {\n",
       "        manager = IPython.keyboard_manager;\n",
       "    }\n",
       "\n",
       "    // Check for shift+enter\n",
       "    if (event.shiftKey && event.which === 13) {\n",
       "        this.canvas_div.blur();\n",
       "        // select the cell after this one\n",
       "        var index = IPython.notebook.find_cell_index(this.cell_info[0]);\n",
       "        IPython.notebook.select(index + 1);\n",
       "    }\n",
       "};\n",
       "\n",
       "mpl.figure.prototype.handle_save = function (fig, _msg) {\n",
       "    fig.ondownload(fig, null);\n",
       "};\n",
       "\n",
       "mpl.find_output_cell = function (html_output) {\n",
       "    // Return the cell and output element which can be found *uniquely* in the notebook.\n",
       "    // Note - this is a bit hacky, but it is done because the \"notebook_saving.Notebook\"\n",
       "    // IPython event is triggered only after the cells have been serialised, which for\n",
       "    // our purposes (turning an active figure into a static one), is too late.\n",
       "    var cells = IPython.notebook.get_cells();\n",
       "    var ncells = cells.length;\n",
       "    for (var i = 0; i < ncells; i++) {\n",
       "        var cell = cells[i];\n",
       "        if (cell.cell_type === 'code') {\n",
       "            for (var j = 0; j < cell.output_area.outputs.length; j++) {\n",
       "                var data = cell.output_area.outputs[j];\n",
       "                if (data.data) {\n",
       "                    // IPython >= 3 moved mimebundle to data attribute of output\n",
       "                    data = data.data;\n",
       "                }\n",
       "                if (data['text/html'] === html_output) {\n",
       "                    return [cell, data, j];\n",
       "                }\n",
       "            }\n",
       "        }\n",
       "    }\n",
       "};\n",
       "\n",
       "// Register the function which deals with the matplotlib target/channel.\n",
       "// The kernel may be null if the page has been refreshed.\n",
       "if (IPython.notebook.kernel !== null) {\n",
       "    IPython.notebook.kernel.comm_manager.register_target(\n",
       "        'matplotlib',\n",
       "        mpl.mpl_figure_comm\n",
       "    );\n",
       "}\n"
      ],
      "text/plain": [
       "<IPython.core.display.Javascript object>"
      ]
     },
     "metadata": {},
     "output_type": "display_data"
    },
    {
     "data": {
      "text/html": [
       "<img src=\"data:image/png;base64,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\" width=\"640\">"
      ],
      "text/plain": [
       "<IPython.core.display.HTML object>"
      ]
     },
     "metadata": {},
     "output_type": "display_data"
    },
    {
     "data": {
      "text/plain": [
       "(array([7.0000e+00, 6.0000e+00, 2.0000e+01, 6.5000e+01, 9.4000e+01,\n",
       "        1.4200e+02, 2.9400e+02, 5.2600e+02, 1.2510e+03, 1.8450e+03,\n",
       "        2.5780e+03, 4.0870e+03, 6.1890e+03, 9.6500e+03, 1.3745e+04,\n",
       "        1.8366e+04, 2.0310e+04, 2.0773e+04, 1.9382e+04, 1.8784e+04,\n",
       "        1.5915e+04, 1.1254e+04, 7.5250e+03, 4.9470e+03, 2.8290e+03,\n",
       "        1.4590e+03, 7.4800e+02, 2.2800e+02, 8.4000e+01, 3.9000e+01]),\n",
       " array([33.        , 35.03333333, 37.06666667, 39.1       , 41.13333333,\n",
       "        43.16666667, 45.2       , 47.23333333, 49.26666667, 51.3       ,\n",
       "        53.33333333, 55.36666667, 57.4       , 59.43333333, 61.46666667,\n",
       "        63.5       , 65.53333333, 67.56666667, 69.6       , 71.63333333,\n",
       "        73.66666667, 75.7       , 77.73333333, 79.76666667, 81.8       ,\n",
       "        83.83333333, 85.86666667, 87.9       , 89.93333333, 91.96666667,\n",
       "        94.        ]),\n",
       " <BarContainer object of 30 artists>)"
      ]
     },
     "execution_count": 11,
     "metadata": {},
     "output_type": "execute_result"
    }
   ],
   "source": [
    "plt.hist(target, 30, range=(33, 94))"
   ]
  },
  {
   "cell_type": "markdown",
   "id": "1924a5f4",
   "metadata": {},
   "source": [
    "It's almost normal distribution so we can impute mean value for missing value in target."
   ]
  },
  {
   "cell_type": "code",
   "execution_count": 12,
   "id": "148381dc",
   "metadata": {},
   "outputs": [],
   "source": [
    "y = target.fillna(target.mean())"
   ]
  },
  {
   "cell_type": "code",
   "execution_count": 13,
   "id": "4ad8ffc8",
   "metadata": {},
   "outputs": [
    {
     "data": {
      "text/plain": [
       "False"
      ]
     },
     "execution_count": 13,
     "metadata": {},
     "output_type": "execute_result"
    }
   ],
   "source": [
    "y.isnull().values.any()"
   ]
  },
  {
   "cell_type": "markdown",
   "id": "3406b358",
   "metadata": {},
   "source": [
    "#### Data Exploration :"
   ]
  },
  {
   "cell_type": "code",
   "execution_count": 14,
   "id": "3f506122",
   "metadata": {},
   "outputs": [
    {
     "data": {
      "text/plain": [
       "Index(['id', 'player_fifa_api_id', 'player_api_id', 'date', 'potential',\n",
       "       'preferred_foot', 'attacking_work_rate', 'defensive_work_rate',\n",
       "       'crossing', 'finishing', 'heading_accuracy', 'short_passing', 'volleys',\n",
       "       'dribbling', 'curve', 'free_kick_accuracy', 'long_passing',\n",
       "       'ball_control', 'acceleration', 'sprint_speed', 'agility', 'reactions',\n",
       "       'balance', 'shot_power', 'jumping', 'stamina', 'strength', 'long_shots',\n",
       "       'aggression', 'interceptions', 'positioning', 'vision', 'penalties',\n",
       "       'marking', 'standing_tackle', 'sliding_tackle', 'gk_diving',\n",
       "       'gk_handling', 'gk_kicking', 'gk_positioning', 'gk_reflexes'],\n",
       "      dtype='object')"
      ]
     },
     "execution_count": 14,
     "metadata": {},
     "output_type": "execute_result"
    }
   ],
   "source": [
    "df.columns"
   ]
  },
  {
   "cell_type": "code",
   "execution_count": 15,
   "id": "10f3aeef",
   "metadata": {},
   "outputs": [
    {
     "name": "stdout",
     "output_type": "stream",
     "text": [
      "id--> 183978..int64\n",
      "player_fifa_api_id--> 11062..int64\n",
      "player_api_id--> 11060..int64\n",
      "date--> 197..object\n",
      "potential--> 57..float64\n",
      "preferred_foot--> 3..object\n",
      "attacking_work_rate--> 9..object\n",
      "defensive_work_rate--> 20..object\n",
      "crossing--> 96..float64\n",
      "finishing--> 98..float64\n",
      "heading_accuracy--> 97..float64\n",
      "short_passing--> 96..float64\n",
      "volleys--> 94..float64\n",
      "dribbling--> 98..float64\n",
      "curve--> 93..float64\n",
      "free_kick_accuracy--> 98..float64\n",
      "long_passing--> 96..float64\n",
      "ball_control--> 94..float64\n",
      "acceleration--> 87..float64\n",
      "sprint_speed--> 86..float64\n",
      "agility--> 82..float64\n",
      "reactions--> 79..float64\n",
      "balance--> 82..float64\n",
      "shot_power--> 97..float64\n",
      "jumping--> 80..float64\n",
      "stamina--> 85..float64\n",
      "strength--> 83..float64\n",
      "long_shots--> 97..float64\n",
      "aggression--> 92..float64\n",
      "interceptions--> 97..float64\n",
      "positioning--> 96..float64\n",
      "vision--> 98..float64\n",
      "penalties--> 95..float64\n",
      "marking--> 96..float64\n",
      "standing_tackle--> 96..float64\n",
      "sliding_tackle--> 95..float64\n",
      "gk_diving--> 94..float64\n",
      "gk_handling--> 91..float64\n",
      "gk_kicking--> 98..float64\n",
      "gk_positioning--> 95..float64\n",
      "gk_reflexes--> 93..float64\n"
     ]
    }
   ],
   "source": [
    "for col in df.columns:\n",
    "    unique_cat = len(df[col].unique())\n",
    "    print(\"{col}--> {unique_cat}..{typ}\".format(col=col, unique_cat=unique_cat, typ=df[col].dtype))"
   ]
  },
  {
   "cell_type": "code",
   "execution_count": 16,
   "id": "e9dcecf5",
   "metadata": {},
   "outputs": [
    {
     "data": {
      "text/html": [
       "<div>\n",
       "<style scoped>\n",
       "    .dataframe tbody tr th:only-of-type {\n",
       "        vertical-align: middle;\n",
       "    }\n",
       "\n",
       "    .dataframe tbody tr th {\n",
       "        vertical-align: top;\n",
       "    }\n",
       "\n",
       "    .dataframe thead th {\n",
       "        text-align: right;\n",
       "    }\n",
       "</style>\n",
       "<table border=\"1\" class=\"dataframe\">\n",
       "  <thead>\n",
       "    <tr style=\"text-align: right;\">\n",
       "      <th></th>\n",
       "      <th>id</th>\n",
       "      <th>player_fifa_api_id</th>\n",
       "      <th>player_api_id</th>\n",
       "      <th>date</th>\n",
       "      <th>potential</th>\n",
       "      <th>crossing</th>\n",
       "      <th>finishing</th>\n",
       "      <th>heading_accuracy</th>\n",
       "      <th>short_passing</th>\n",
       "      <th>volleys</th>\n",
       "      <th>...</th>\n",
       "      <th>defensive_work_rate_9</th>\n",
       "      <th>defensive_work_rate__0</th>\n",
       "      <th>defensive_work_rate_ean</th>\n",
       "      <th>defensive_work_rate_es</th>\n",
       "      <th>defensive_work_rate_high</th>\n",
       "      <th>defensive_work_rate_low</th>\n",
       "      <th>defensive_work_rate_medium</th>\n",
       "      <th>defensive_work_rate_o</th>\n",
       "      <th>defensive_work_rate_ormal</th>\n",
       "      <th>defensive_work_rate_tocky</th>\n",
       "    </tr>\n",
       "  </thead>\n",
       "  <tbody>\n",
       "    <tr>\n",
       "      <th>0</th>\n",
       "      <td>1</td>\n",
       "      <td>218353</td>\n",
       "      <td>505942</td>\n",
       "      <td>2016-02-18 00:00:00</td>\n",
       "      <td>71.0</td>\n",
       "      <td>49.0</td>\n",
       "      <td>44.0</td>\n",
       "      <td>71.0</td>\n",
       "      <td>61.0</td>\n",
       "      <td>44.0</td>\n",
       "      <td>...</td>\n",
       "      <td>0</td>\n",
       "      <td>0</td>\n",
       "      <td>0</td>\n",
       "      <td>0</td>\n",
       "      <td>0</td>\n",
       "      <td>0</td>\n",
       "      <td>1</td>\n",
       "      <td>0</td>\n",
       "      <td>0</td>\n",
       "      <td>0</td>\n",
       "    </tr>\n",
       "    <tr>\n",
       "      <th>1</th>\n",
       "      <td>2</td>\n",
       "      <td>218353</td>\n",
       "      <td>505942</td>\n",
       "      <td>2015-11-19 00:00:00</td>\n",
       "      <td>71.0</td>\n",
       "      <td>49.0</td>\n",
       "      <td>44.0</td>\n",
       "      <td>71.0</td>\n",
       "      <td>61.0</td>\n",
       "      <td>44.0</td>\n",
       "      <td>...</td>\n",
       "      <td>0</td>\n",
       "      <td>0</td>\n",
       "      <td>0</td>\n",
       "      <td>0</td>\n",
       "      <td>0</td>\n",
       "      <td>0</td>\n",
       "      <td>1</td>\n",
       "      <td>0</td>\n",
       "      <td>0</td>\n",
       "      <td>0</td>\n",
       "    </tr>\n",
       "    <tr>\n",
       "      <th>2</th>\n",
       "      <td>3</td>\n",
       "      <td>218353</td>\n",
       "      <td>505942</td>\n",
       "      <td>2015-09-21 00:00:00</td>\n",
       "      <td>66.0</td>\n",
       "      <td>49.0</td>\n",
       "      <td>44.0</td>\n",
       "      <td>71.0</td>\n",
       "      <td>61.0</td>\n",
       "      <td>44.0</td>\n",
       "      <td>...</td>\n",
       "      <td>0</td>\n",
       "      <td>0</td>\n",
       "      <td>0</td>\n",
       "      <td>0</td>\n",
       "      <td>0</td>\n",
       "      <td>0</td>\n",
       "      <td>1</td>\n",
       "      <td>0</td>\n",
       "      <td>0</td>\n",
       "      <td>0</td>\n",
       "    </tr>\n",
       "    <tr>\n",
       "      <th>3</th>\n",
       "      <td>4</td>\n",
       "      <td>218353</td>\n",
       "      <td>505942</td>\n",
       "      <td>2015-03-20 00:00:00</td>\n",
       "      <td>65.0</td>\n",
       "      <td>48.0</td>\n",
       "      <td>43.0</td>\n",
       "      <td>70.0</td>\n",
       "      <td>60.0</td>\n",
       "      <td>43.0</td>\n",
       "      <td>...</td>\n",
       "      <td>0</td>\n",
       "      <td>0</td>\n",
       "      <td>0</td>\n",
       "      <td>0</td>\n",
       "      <td>0</td>\n",
       "      <td>0</td>\n",
       "      <td>1</td>\n",
       "      <td>0</td>\n",
       "      <td>0</td>\n",
       "      <td>0</td>\n",
       "    </tr>\n",
       "    <tr>\n",
       "      <th>4</th>\n",
       "      <td>5</td>\n",
       "      <td>218353</td>\n",
       "      <td>505942</td>\n",
       "      <td>2007-02-22 00:00:00</td>\n",
       "      <td>65.0</td>\n",
       "      <td>48.0</td>\n",
       "      <td>43.0</td>\n",
       "      <td>70.0</td>\n",
       "      <td>60.0</td>\n",
       "      <td>43.0</td>\n",
       "      <td>...</td>\n",
       "      <td>0</td>\n",
       "      <td>0</td>\n",
       "      <td>0</td>\n",
       "      <td>0</td>\n",
       "      <td>0</td>\n",
       "      <td>0</td>\n",
       "      <td>1</td>\n",
       "      <td>0</td>\n",
       "      <td>0</td>\n",
       "      <td>0</td>\n",
       "    </tr>\n",
       "  </tbody>\n",
       "</table>\n",
       "<p>5 rows × 67 columns</p>\n",
       "</div>"
      ],
      "text/plain": [
       "   id  player_fifa_api_id  player_api_id                 date  potential  \\\n",
       "0   1              218353         505942  2016-02-18 00:00:00       71.0   \n",
       "1   2              218353         505942  2015-11-19 00:00:00       71.0   \n",
       "2   3              218353         505942  2015-09-21 00:00:00       66.0   \n",
       "3   4              218353         505942  2015-03-20 00:00:00       65.0   \n",
       "4   5              218353         505942  2007-02-22 00:00:00       65.0   \n",
       "\n",
       "   crossing  finishing  heading_accuracy  short_passing  volleys  ...  \\\n",
       "0      49.0       44.0              71.0           61.0     44.0  ...   \n",
       "1      49.0       44.0              71.0           61.0     44.0  ...   \n",
       "2      49.0       44.0              71.0           61.0     44.0  ...   \n",
       "3      48.0       43.0              70.0           60.0     43.0  ...   \n",
       "4      48.0       43.0              70.0           60.0     43.0  ...   \n",
       "\n",
       "   defensive_work_rate_9  defensive_work_rate__0  defensive_work_rate_ean  \\\n",
       "0                      0                       0                        0   \n",
       "1                      0                       0                        0   \n",
       "2                      0                       0                        0   \n",
       "3                      0                       0                        0   \n",
       "4                      0                       0                        0   \n",
       "\n",
       "   defensive_work_rate_es  defensive_work_rate_high  defensive_work_rate_low  \\\n",
       "0                       0                         0                        0   \n",
       "1                       0                         0                        0   \n",
       "2                       0                         0                        0   \n",
       "3                       0                         0                        0   \n",
       "4                       0                         0                        0   \n",
       "\n",
       "   defensive_work_rate_medium  defensive_work_rate_o  \\\n",
       "0                           1                      0   \n",
       "1                           1                      0   \n",
       "2                           1                      0   \n",
       "3                           1                      0   \n",
       "4                           1                      0   \n",
       "\n",
       "   defensive_work_rate_ormal  defensive_work_rate_tocky  \n",
       "0                          0                          0  \n",
       "1                          0                          0  \n",
       "2                          0                          0  \n",
       "3                          0                          0  \n",
       "4                          0                          0  \n",
       "\n",
       "[5 rows x 67 columns]"
      ]
     },
     "execution_count": 16,
     "metadata": {},
     "output_type": "execute_result"
    }
   ],
   "source": [
    "dummy_df = pd.get_dummies(df, columns=['preferred_foot', 'attacking_work_rate', 'defensive_work_rate'])\n",
    "dummy_df.head()"
   ]
  },
  {
   "cell_type": "code",
   "execution_count": 17,
   "id": "7c3e72dc",
   "metadata": {},
   "outputs": [],
   "source": [
    "X = dummy_df.drop(['id', 'date'], axis=1)"
   ]
  },
  {
   "cell_type": "markdown",
   "id": "61086d3d",
   "metadata": {},
   "source": [
    "#### Feature selection :\n",
    "\n",
    "As tree model doesn't gets affected by missing values present in data set. but feature selection by SelectFromModel can not be done on datasets that carries null value. Therefore, we should also perform imputation on dataset."
   ]
  },
  {
   "cell_type": "code",
   "execution_count": 18,
   "id": "5bcee3fb",
   "metadata": {},
   "outputs": [],
   "source": [
    "X_train, X_test, y_train, y_test = train_test_split(X, y, test_size=0.25, random_state=42)"
   ]
  },
  {
   "cell_type": "code",
   "execution_count": 19,
   "id": "bc6783e0",
   "metadata": {},
   "outputs": [],
   "source": [
    "#imputing null value of each column with the mean of that column\n",
    "\n",
    "imput = SimpleImputer()\n",
    "X_train = imput.fit_transform(X_train)\n",
    "X_test = imput.fit_transform(X_test)"
   ]
  },
  {
   "cell_type": "code",
   "execution_count": 20,
   "id": "351d0ab5",
   "metadata": {},
   "outputs": [
    {
     "name": "stdout",
     "output_type": "stream",
     "text": [
      "[0.0112063  0.01328359 0.16840546 0.01479726 0.00693286 0.02923344\n",
      " 0.02684482 0.00141261 0.01633997 0.00142012 0.00089428 0.00336454\n",
      " 0.05596948 0.00311885 0.00745351 0.00146221 0.3133247  0.00111532\n",
      " 0.02715905 0.00230193 0.00448559 0.02142001 0.00503636 0.0047115\n",
      " 0.01690763 0.01669931 0.00246637 0.00140508 0.02284729 0.05204851\n",
      " 0.00592539 0.02880221 0.02403816 0.00703669 0.03812633 0.022119\n",
      " 0.00037242 0.         0.00078061 0.00141978 0.00046924 0.00049927\n",
      " 0.0007586  0.00086996 0.00040868 0.00098631 0.         0.\n",
      " 0.         0.00204254 0.00125616 0.         0.00173628 0.\n",
      " 0.0006331  0.         0.00087684 0.         0.         0.00092218\n",
      " 0.00059731 0.00364412 0.00161083 0.         0.        ]\n"
     ]
    }
   ],
   "source": [
    "#finding feature_importance for feature selection. from it we'll be able to decide threshold value\n",
    "\n",
    "model = XGBRegressor()\n",
    "model.fit(X_train, y_train)\n",
    "print(model.feature_importances_)"
   ]
  },
  {
   "cell_type": "code",
   "execution_count": 21,
   "id": "7f76cd5e",
   "metadata": {},
   "outputs": [
    {
     "data": {
      "text/plain": [
       "(137983, 19)"
      ]
     },
     "execution_count": 21,
     "metadata": {},
     "output_type": "execute_result"
    }
   ],
   "source": [
    "selection = SelectFromModel(model, threshold=0.01, prefit=True)\n",
    "\n",
    "select_X_train = selection.transform(X_train)\n",
    "select_X_test = selection.transform(X_test)\n",
    "select_X_train.shape"
   ]
  },
  {
   "cell_type": "markdown",
   "id": "ededa0fa",
   "metadata": {},
   "source": [
    "#### Scaling the data:"
   ]
  },
  {
   "cell_type": "code",
   "execution_count": 22,
   "id": "2a8d7491",
   "metadata": {},
   "outputs": [
    {
     "data": {
      "text/plain": [
       "array([[ 1.0567811 ,  2.90118168, -0.37370531, ..., -0.69862488,\n",
       "        -0.31949444, -0.49199125],\n",
       "       [ 0.83239093,  1.11023832, -0.67788964, ..., -0.25617622,\n",
       "        -0.25716519, -0.55033053],\n",
       "       [ 0.17077907,  1.07420333,  0.38675551, ..., -0.12976231,\n",
       "        -0.19483593, -0.55033053],\n",
       "       ...,\n",
       "       [-2.07758255, -0.8212941 ,  1.2993085 , ...,  0.31268635,\n",
       "         0.30379811,  0.26641949],\n",
       "       [ 0.44157109, -0.11639067,  0.99512417, ...,  0.37589331,\n",
       "         0.36612736,  0.32475878],\n",
       "       [ 0.22002412, -0.64891505,  1.755585  , ..., -0.69862488,\n",
       "        -0.50648221, -0.2586341 ]])"
      ]
     },
     "execution_count": 22,
     "metadata": {},
     "output_type": "execute_result"
    }
   ],
   "source": [
    "scalar = StandardScaler()\n",
    "x_scaled_train = scalar.fit_transform(select_X_train)\n",
    "x_scaled_train"
   ]
  },
  {
   "cell_type": "code",
   "execution_count": 23,
   "id": "9fd4b739",
   "metadata": {},
   "outputs": [
    {
     "data": {
      "text/plain": [
       "array([[ 0.5825465 ,  0.37577743,  1.14364038, ..., -0.69951284,\n",
       "        -0.19548251, -0.08516627],\n",
       "       [ 0.7131656 ,  0.14588373, -0.22328168, ..., -0.63646818,\n",
       "        -0.19548251, -0.2013609 ],\n",
       "       [ 0.2307514 , -0.78242149, -0.52704214, ..., -0.51037885,\n",
       "        -0.00935998, -0.37565285],\n",
       "       ...,\n",
       "       [ 0.7233016 ,  0.76992259,  0.83987993, ..., -0.13211088,\n",
       "        -0.13344167, -0.2013609 ],\n",
       "       [ 0.71524098,  1.61776501,  0.6879997 , ..., -0.25820021,\n",
       "        -0.50568674, -0.31755554],\n",
       "       [ 0.90691696,  2.24229255, -1.74208398, ..., -0.25820021,\n",
       "        -0.38160505, -0.31755554]])"
      ]
     },
     "execution_count": 23,
     "metadata": {},
     "output_type": "execute_result"
    }
   ],
   "source": [
    "x_scaled_test = scalar.fit_transform(select_X_test)\n",
    "x_scaled_test"
   ]
  },
  {
   "cell_type": "markdown",
   "id": "eefd3b9d",
   "metadata": {},
   "source": [
    "## Training different models :\n",
    "\n",
    "## 1. Linear Regression :"
   ]
  },
  {
   "cell_type": "code",
   "execution_count": 24,
   "id": "f6ef345a",
   "metadata": {},
   "outputs": [
    {
     "data": {
      "text/plain": [
       "LinearRegression()"
      ]
     },
     "execution_count": 24,
     "metadata": {},
     "output_type": "execute_result"
    }
   ],
   "source": [
    "linear_reg = LinearRegression()\n",
    "linear_reg.fit(x_scaled_train, y_train)"
   ]
  },
  {
   "cell_type": "code",
   "execution_count": 25,
   "id": "9f1157af",
   "metadata": {},
   "outputs": [
    {
     "data": {
      "text/plain": [
       "0.8487194680891929"
      ]
     },
     "execution_count": 25,
     "metadata": {},
     "output_type": "execute_result"
    }
   ],
   "source": [
    "linear_reg.score(x_scaled_test, y_test)"
   ]
  },
  {
   "cell_type": "markdown",
   "id": "aa407858",
   "metadata": {},
   "source": [
    "### Hyperparameter Tuning:"
   ]
  },
  {
   "cell_type": "code",
   "execution_count": 26,
   "id": "5836e64b",
   "metadata": {},
   "outputs": [],
   "source": [
    "cv = ShuffleSplit(random_state=0)   #defining type of cross_validation(shuffle spliting)\n",
    "\n",
    "param_grid = {'n_jobs': [-1]}     #parameters for model tunning\n",
    "\n",
    "grid = GridSearchCV(linear_reg, param_grid=param_grid, cv=cv)"
   ]
  },
  {
   "cell_type": "code",
   "execution_count": 27,
   "id": "d54b8e3c",
   "metadata": {},
   "outputs": [
    {
     "data": {
      "text/plain": [
       "GridSearchCV(cv=ShuffleSplit(n_splits=10, random_state=0, test_size=None, train_size=None),\n",
       "             estimator=LinearRegression(), param_grid={'n_jobs': [-1]})"
      ]
     },
     "execution_count": 27,
     "metadata": {},
     "output_type": "execute_result"
    }
   ],
   "source": [
    "grid.fit(select_X_train, y_train) "
   ]
  },
  {
   "cell_type": "code",
   "execution_count": 28,
   "id": "b5b721e4",
   "metadata": {},
   "outputs": [
    {
     "data": {
      "text/plain": [
       "{'n_jobs': -1}"
      ]
     },
     "execution_count": 28,
     "metadata": {},
     "output_type": "execute_result"
    }
   ],
   "source": [
    "grid.best_params_"
   ]
  },
  {
   "cell_type": "code",
   "execution_count": 29,
   "id": "4432e5df",
   "metadata": {},
   "outputs": [
    {
     "data": {
      "text/plain": [
       "LinearRegression(n_jobs=-1)"
      ]
     },
     "execution_count": 29,
     "metadata": {},
     "output_type": "execute_result"
    }
   ],
   "source": [
    "grid.best_estimator_"
   ]
  },
  {
   "cell_type": "code",
   "execution_count": 30,
   "id": "bb66d762",
   "metadata": {},
   "outputs": [
    {
     "data": {
      "text/plain": [
       "LinearRegression(n_jobs=-1)"
      ]
     },
     "execution_count": 30,
     "metadata": {},
     "output_type": "execute_result"
    }
   ],
   "source": [
    "new_linear_reg = LinearRegression(copy_X=True, fit_intercept=True, n_jobs=-1, normalize=False)\n",
    "new_linear_reg.fit(x_scaled_train, y_train)"
   ]
  },
  {
   "cell_type": "code",
   "execution_count": 31,
   "id": "50bab7d3",
   "metadata": {},
   "outputs": [
    {
     "data": {
      "text/plain": [
       "0.8487194680891929"
      ]
     },
     "execution_count": 31,
     "metadata": {},
     "output_type": "execute_result"
    }
   ],
   "source": [
    "new_linear_reg.score(x_scaled_test, y_test)"
   ]
  },
  {
   "cell_type": "markdown",
   "id": "edd49727",
   "metadata": {},
   "source": [
    "## 2. Decision Tree :"
   ]
  },
  {
   "cell_type": "code",
   "execution_count": 32,
   "id": "1cf2003b",
   "metadata": {},
   "outputs": [
    {
     "data": {
      "text/plain": [
       "DecisionTreeRegressor(random_state=0)"
      ]
     },
     "execution_count": 32,
     "metadata": {},
     "output_type": "execute_result"
    }
   ],
   "source": [
    "decision_tree = DecisionTreeRegressor(criterion='mse', random_state=0)         #estimator\n",
    "decision_tree.fit(x_scaled_train, y_train)"
   ]
  },
  {
   "cell_type": "code",
   "execution_count": 33,
   "id": "d33adff7",
   "metadata": {},
   "outputs": [
    {
     "data": {
      "text/plain": [
       "0.9559434200536528"
      ]
     },
     "execution_count": 33,
     "metadata": {},
     "output_type": "execute_result"
    }
   ],
   "source": [
    "decision_tree.score(x_scaled_test, y_test)"
   ]
  },
  {
   "cell_type": "code",
   "execution_count": 34,
   "id": "cd309b40",
   "metadata": {},
   "outputs": [],
   "source": [
    "cv = ShuffleSplit(n_splits=10, random_state=42)        #cross validation\n",
    "\n",
    "param_grid = {'max_depth': [3, 5, 7, 9, 13],\n",
    "             'criterion': ['mse', 'friedman_mse']}\n",
    "\n",
    "grid = GridSearchCV(decision_tree, param_grid=param_grid, cv=cv)"
   ]
  },
  {
   "cell_type": "code",
   "execution_count": 35,
   "id": "d5becd29",
   "metadata": {},
   "outputs": [
    {
     "data": {
      "text/plain": [
       "GridSearchCV(cv=ShuffleSplit(n_splits=10, random_state=42, test_size=None, train_size=None),\n",
       "             estimator=DecisionTreeRegressor(random_state=0),\n",
       "             param_grid={'criterion': ['mse', 'friedman_mse'],\n",
       "                         'max_depth': [3, 5, 7, 9, 13]})"
      ]
     },
     "execution_count": 35,
     "metadata": {},
     "output_type": "execute_result"
    }
   ],
   "source": [
    "grid.fit(select_X_train, y_train)          #training"
   ]
  },
  {
   "cell_type": "code",
   "execution_count": 36,
   "id": "d50ccb18",
   "metadata": {},
   "outputs": [
    {
     "data": {
      "text/plain": [
       "{'criterion': 'friedman_mse', 'max_depth': 13}"
      ]
     },
     "execution_count": 36,
     "metadata": {},
     "output_type": "execute_result"
    }
   ],
   "source": [
    "grid.best_params_"
   ]
  },
  {
   "cell_type": "code",
   "execution_count": 37,
   "id": "9a71b259",
   "metadata": {},
   "outputs": [
    {
     "data": {
      "text/plain": [
       "DecisionTreeRegressor(criterion='friedman_mse', max_depth=13, random_state=0)"
      ]
     },
     "execution_count": 37,
     "metadata": {},
     "output_type": "execute_result"
    }
   ],
   "source": [
    "grid.best_estimator_"
   ]
  },
  {
   "cell_type": "code",
   "execution_count": 38,
   "id": "68734234",
   "metadata": {},
   "outputs": [
    {
     "data": {
      "text/plain": [
       "DecisionTreeRegressor(criterion='friedman_mse', max_depth=24, random_state=45)"
      ]
     },
     "execution_count": 38,
     "metadata": {},
     "output_type": "execute_result"
    }
   ],
   "source": [
    "new_deci_tree = DecisionTreeRegressor(criterion='friedman_mse', max_depth=24,\n",
    "           max_features=None, max_leaf_nodes=None,\n",
    "           min_impurity_decrease=0.0, min_impurity_split=None,\n",
    "           min_samples_leaf=1, min_samples_split=2,\n",
    "           min_weight_fraction_leaf=0.0, random_state=45,\n",
    "           splitter='best')\n",
    "new_deci_tree.fit(x_scaled_train, y_train)"
   ]
  },
  {
   "cell_type": "code",
   "execution_count": 39,
   "id": "9916e770",
   "metadata": {},
   "outputs": [
    {
     "data": {
      "text/plain": [
       "0.9573918653268987"
      ]
     },
     "execution_count": 39,
     "metadata": {},
     "output_type": "execute_result"
    }
   ],
   "source": [
    "new_deci_tree.score(x_scaled_test, y_test)"
   ]
  },
  {
   "cell_type": "markdown",
   "id": "e9316e8d",
   "metadata": {},
   "source": [
    "## 3. Random Forest :"
   ]
  },
  {
   "cell_type": "code",
   "execution_count": 40,
   "id": "7004b455",
   "metadata": {},
   "outputs": [
    {
     "data": {
      "text/plain": [
       "RandomForestRegressor(random_state=123)"
      ]
     },
     "execution_count": 40,
     "metadata": {},
     "output_type": "execute_result"
    }
   ],
   "source": [
    "rand_forest = RandomForestRegressor(random_state=123)\n",
    "rand_forest.fit(x_scaled_train, y_train)"
   ]
  },
  {
   "cell_type": "code",
   "execution_count": 41,
   "id": "0fb5a77e",
   "metadata": {},
   "outputs": [
    {
     "data": {
      "text/plain": [
       "0.9797116517014308"
      ]
     },
     "execution_count": 41,
     "metadata": {},
     "output_type": "execute_result"
    }
   ],
   "source": [
    "rand_forest.score(x_scaled_test, y_test)"
   ]
  },
  {
   "cell_type": "markdown",
   "id": "dc97cf60",
   "metadata": {},
   "source": [
    "### Hyperparameter Tuning:"
   ]
  },
  {
   "cell_type": "code",
   "execution_count": 42,
   "id": "1ce33a0c",
   "metadata": {},
   "outputs": [],
   "source": [
    "cv = ShuffleSplit(test_size=0.2, random_state=0)\n",
    "\n",
    "param_grid = {'max_features':['sqrt', 'log2', 10],\n",
    "              'max_depth':[9, 11, 13]}                 \n",
    "\n",
    "grid = GridSearchCV(rand_forest, param_grid=param_grid, cv=cv)"
   ]
  },
  {
   "cell_type": "code",
   "execution_count": 43,
   "id": "3da83515",
   "metadata": {},
   "outputs": [
    {
     "data": {
      "text/plain": [
       "GridSearchCV(cv=ShuffleSplit(n_splits=10, random_state=0, test_size=0.2, train_size=None),\n",
       "             estimator=RandomForestRegressor(random_state=123),\n",
       "             param_grid={'max_depth': [9, 11, 13],\n",
       "                         'max_features': ['sqrt', 'log2', 10]})"
      ]
     },
     "execution_count": 43,
     "metadata": {},
     "output_type": "execute_result"
    }
   ],
   "source": [
    "grid.fit(x_scaled_train, y_train) "
   ]
  },
  {
   "cell_type": "code",
   "execution_count": 44,
   "id": "d3215954",
   "metadata": {},
   "outputs": [
    {
     "data": {
      "text/plain": [
       "RandomForestRegressor(max_depth=33, max_features=10, n_estimators=10, n_jobs=1,\n",
       "                      random_state=42)"
      ]
     },
     "execution_count": 44,
     "metadata": {},
     "output_type": "execute_result"
    }
   ],
   "source": [
    "new_rand_forest = RandomForestRegressor(bootstrap=True, criterion='mse', max_depth=33,\n",
    "           max_features=10, max_leaf_nodes=None, min_impurity_decrease=0.0,\n",
    "           min_impurity_split=None, min_samples_leaf=1,\n",
    "           min_samples_split=2, min_weight_fraction_leaf=0.0,\n",
    "           n_estimators=10, n_jobs=1, oob_score=False, random_state=42,\n",
    "           verbose=0, warm_start=False)\n",
    "new_rand_forest.fit(x_scaled_train, y_train)"
   ]
  },
  {
   "cell_type": "code",
   "execution_count": 45,
   "id": "b25f898e",
   "metadata": {},
   "outputs": [
    {
     "data": {
      "text/plain": [
       "0.9787384737336855"
      ]
     },
     "execution_count": 45,
     "metadata": {},
     "output_type": "execute_result"
    }
   ],
   "source": [
    "new_rand_forest.score(x_scaled_test, y_test)"
   ]
  },
  {
   "cell_type": "markdown",
   "id": "db85ec56",
   "metadata": {},
   "source": [
    "## 4. Xgboost regressor :"
   ]
  },
  {
   "cell_type": "code",
   "execution_count": 46,
   "id": "a16f92ea",
   "metadata": {},
   "outputs": [
    {
     "data": {
      "text/plain": [
       "XGBRegressor(base_score=0.5, booster='gbtree', colsample_bylevel=1,\n",
       "             colsample_bynode=1, colsample_bytree=1, gamma=0, gpu_id=-1,\n",
       "             importance_type='gain', interaction_constraints='',\n",
       "             learning_rate=0.300000012, max_delta_step=0, max_depth=6,\n",
       "             min_child_weight=1, missing=nan, monotone_constraints='()',\n",
       "             n_estimators=100, n_jobs=4, num_parallel_tree=1, random_state=42,\n",
       "             reg_alpha=0, reg_lambda=1, scale_pos_weight=1, subsample=1,\n",
       "             tree_method='exact', validate_parameters=1, verbosity=None)"
      ]
     },
     "execution_count": 46,
     "metadata": {},
     "output_type": "execute_result"
    }
   ],
   "source": [
    "xgr = XGBRegressor(random_state=42)\n",
    "xgr.fit(x_scaled_train, y_train)"
   ]
  },
  {
   "cell_type": "code",
   "execution_count": 47,
   "id": "7aa301b4",
   "metadata": {},
   "outputs": [
    {
     "data": {
      "text/plain": [
       "0.9612268302162874"
      ]
     },
     "execution_count": 47,
     "metadata": {},
     "output_type": "execute_result"
    }
   ],
   "source": [
    "xgr.score(x_scaled_test, y_test)"
   ]
  },
  {
   "cell_type": "markdown",
   "id": "ee640007",
   "metadata": {},
   "source": [
    "### Hyperparameter Tuning:"
   ]
  },
  {
   "cell_type": "code",
   "execution_count": 48,
   "id": "9d8d0d2d",
   "metadata": {},
   "outputs": [],
   "source": [
    "cv = ShuffleSplit(n_splits=10, random_state=0)\n",
    "\n",
    "param_grid = {'max_depth': [5, 7],\n",
    "              'learning_rate': [0.1, 0.3]}\n",
    "\n",
    "grid = GridSearchCV(xgr, param_grid=param_grid, cv=cv, n_jobs= -1)"
   ]
  },
  {
   "cell_type": "code",
   "execution_count": 49,
   "id": "635d1e2d",
   "metadata": {},
   "outputs": [
    {
     "data": {
      "text/plain": [
       "GridSearchCV(cv=ShuffleSplit(n_splits=10, random_state=0, test_size=None, train_size=None),\n",
       "             estimator=XGBRegressor(base_score=0.5, booster='gbtree',\n",
       "                                    colsample_bylevel=1, colsample_bynode=1,\n",
       "                                    colsample_bytree=1, gamma=0, gpu_id=-1,\n",
       "                                    importance_type='gain',\n",
       "                                    interaction_constraints='',\n",
       "                                    learning_rate=0.300000012, max_delta_step=0,\n",
       "                                    max_depth=6, min_child_weight=1,\n",
       "                                    missing=nan, monotone_constraints='()',\n",
       "                                    n_estimators=100, n_jobs=4,\n",
       "                                    num_parallel_tree=1, random_state=42,\n",
       "                                    reg_alpha=0, reg_lambda=1,\n",
       "                                    scale_pos_weight=1, subsample=1,\n",
       "                                    tree_method='exact', validate_parameters=1,\n",
       "                                    verbosity=None),\n",
       "             n_jobs=-1,\n",
       "             param_grid={'learning_rate': [0.1, 0.3], 'max_depth': [5, 7]})"
      ]
     },
     "execution_count": 49,
     "metadata": {},
     "output_type": "execute_result"
    }
   ],
   "source": [
    "grid.fit(x_scaled_train, y_train)"
   ]
  },
  {
   "cell_type": "code",
   "execution_count": 50,
   "id": "c89c8004",
   "metadata": {},
   "outputs": [
    {
     "data": {
      "text/plain": [
       "XGBRegressor(base_score=0.5, booster='gbtree', colsample_bylevel=1,\n",
       "             colsample_bynode=1, colsample_bytree=1, gamma=0, gpu_id=-1,\n",
       "             importance_type='gain', interaction_constraints='',\n",
       "             learning_rate=0.3, max_delta_step=0, max_depth=7,\n",
       "             min_child_weight=1, missing=nan, monotone_constraints='()',\n",
       "             n_estimators=100, n_jobs=4, num_parallel_tree=1, random_state=42,\n",
       "             reg_alpha=0, reg_lambda=1, scale_pos_weight=1, subsample=1,\n",
       "             tree_method='exact', validate_parameters=1, verbosity=None)"
      ]
     },
     "execution_count": 50,
     "metadata": {},
     "output_type": "execute_result"
    }
   ],
   "source": [
    "grid.best_estimator_"
   ]
  },
  {
   "cell_type": "code",
   "execution_count": 51,
   "id": "4b06f812",
   "metadata": {},
   "outputs": [
    {
     "name": "stdout",
     "output_type": "stream",
     "text": [
      "[21:14:29] WARNING: /opt/concourse/worker/volumes/live/7a2b9f41-3287-451b-6691-43e9a6c0910f/volume/xgboost-split_1619728204606/work/src/objective/regression_obj.cu:170: reg:linear is now deprecated in favor of reg:squarederror.\n"
     ]
    },
    {
     "data": {
      "text/plain": [
       "XGBRegressor(base_score=0.5, booster='gbtree', colsample_bylevel=1,\n",
       "             colsample_bynode=1, colsample_bytree=1, gamma=0, gpu_id=-1,\n",
       "             importance_type='gain', interaction_constraints='',\n",
       "             learning_rate=0.3, max_delta_step=0, max_depth=7,\n",
       "             min_child_weight=1, missing=None, monotone_constraints='()',\n",
       "             n_estimators=100, n_jobs=1, nthread=1, num_parallel_tree=1,\n",
       "             objective='reg:linear', random_state=42, reg_alpha=0, reg_lambda=1,\n",
       "             scale_pos_weight=1, seed=42, silent=None, subsample=1,\n",
       "             tree_method='exact', validate_parameters=1, verbosity=1)"
      ]
     },
     "execution_count": 51,
     "metadata": {},
     "output_type": "execute_result"
    }
   ],
   "source": [
    "new_xgr = XGBRegressor(base_score=0.5, booster='gbtree', colsample_bylevel=1,\n",
    "             colsample_bynode=1, colsample_bytree=1, gamma=0,\n",
    "             importance_type='gain', learning_rate=0.3, max_delta_step=0,\n",
    "             max_depth=7, min_child_weight=1, missing=None, n_estimators=100,\n",
    "             n_jobs=1, nthread=None, objective='reg:linear', random_state=42,\n",
    "             reg_alpha=0, reg_lambda=1, scale_pos_weight=1, seed=None,\n",
    "             silent=None, subsample=1, verbosity=1)\n",
    "new_xgr.fit(x_scaled_train, y_train)"
   ]
  },
  {
   "cell_type": "code",
   "execution_count": 52,
   "id": "6a628d53",
   "metadata": {},
   "outputs": [
    {
     "data": {
      "text/plain": [
       "0.9652303415162796"
      ]
     },
     "execution_count": 52,
     "metadata": {},
     "output_type": "execute_result"
    }
   ],
   "source": [
    "new_xgr.score(x_scaled_test, y_test)"
   ]
  },
  {
   "cell_type": "code",
   "execution_count": 53,
   "id": "8fe0003e",
   "metadata": {},
   "outputs": [
    {
     "name": "stdout",
     "output_type": "stream",
     "text": [
      "Linear Regressor accuracy is 0.8487194680891929\n",
      "DecisionTree Regressor accuracy is 0.9573918653268987\n",
      "RandomForest regressor accuracy is 0.9787384737336855\n",
      "XGBoost regressor accuracy is 0.9652303415162796\n"
     ]
    }
   ],
   "source": [
    "print(\"\"\"Linear Regressor accuracy is {lin}\n",
    "DecisionTree Regressor accuracy is {Dec}\n",
    "RandomForest regressor accuracy is {ran}\n",
    "XGBoost regressor accuracy is {xgb}\"\"\".format(lin=new_linear_reg.score(x_scaled_test, y_test),\n",
    "                                                       Dec=new_deci_tree.score(x_scaled_test, y_test),\n",
    "                                                       ran=new_rand_forest.score(x_scaled_test, y_test),\n",
    "                                                       xgb=new_xgr.score(x_scaled_test, y_test)))"
   ]
  },
  {
   "cell_type": "markdown",
   "id": "56099edb",
   "metadata": {},
   "source": [
    "By accuracy comparision performed above we can say hear that Random Forest regressor gives better result than any other model. and it can predict the target function with approx 98% accuracy."
   ]
  },
  {
   "cell_type": "code",
   "execution_count": null,
   "id": "a57c5746",
   "metadata": {},
   "outputs": [],
   "source": []
  }
 ],
 "metadata": {
  "kernelspec": {
   "display_name": "Python 3",
   "language": "python",
   "name": "python3"
  },
  "language_info": {
   "codemirror_mode": {
    "name": "ipython",
    "version": 3
   },
   "file_extension": ".py",
   "mimetype": "text/x-python",
   "name": "python",
   "nbconvert_exporter": "python",
   "pygments_lexer": "ipython3",
   "version": "3.8.8"
  }
 },
 "nbformat": 4,
 "nbformat_minor": 5
}
